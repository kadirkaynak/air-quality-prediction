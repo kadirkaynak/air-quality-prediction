{
 "cells": [
  {
   "cell_type": "code",
   "execution_count": 5,
   "id": "1b062717",
   "metadata": {},
   "outputs": [],
   "source": [
    "import os\n",
    "import pandas as pd\n",
    "import numpy as np\n",
    "\n",
    "import locale\n",
    "from locale import atof\n",
    "import xlsxwriter\n",
    "\n",
    "from PreProcessingUtil import preprocessing"
   ]
  },
  {
   "cell_type": "code",
   "execution_count": null,
   "metadata": {},
   "outputs": [],
   "source": [
    "!pip install fastdtw"
   ]
  },
  {
   "cell_type": "code",
   "execution_count": null,
   "metadata": {},
   "outputs": [],
   "source": [
    "import numpy as np\n",
    "from scipy.spatial.distance import euclidean\n",
    "\n",
    "from fastdtw import fastdtw"
   ]
  },
  {
   "cell_type": "code",
   "execution_count": 7,
   "id": "f1028e6b",
   "metadata": {},
   "outputs": [
    {
     "output_type": "stream",
     "name": "stdout",
     "text": [
      "       Unnamed: 0    Aksaray   Besiktas   Buyukada  Catladıkapı    Esenler  \\\n0               0  42.200001  37.599998   9.600000    24.100000  28.100000   \n1               1  41.799999  42.000000  12.000000    27.299999  34.200001   \n2               2  44.200001  39.000000  12.800000    40.200001  33.099998   \n3               3  41.700001  37.599998  13.800000    41.599998  33.799999   \n4               4  49.700001  48.500000  16.400000    40.900002  36.000000   \n...           ...        ...        ...        ...          ...        ...   \n19995       19995  23.600000  11.100000  13.000000    13.800000  12.200000   \n19996       19996  25.900000  17.400000   8.700000    17.200001  18.200001   \n19997       19997  27.600000  30.000000  13.300000    14.600000  18.299999   \n19998       19998  19.700001  18.600000  30.600000    14.800000  22.000000   \n19999       19999  27.100000  13.200000  26.200001    16.400000  31.299999   \n\n         Kadıkoy  Kandilli     Kartal  Mecidiyekoy   Umraniye  \n0      21.400000       6.8  46.599998    73.320000  34.200001  \n1      24.200001       5.3  39.700001    76.489998  38.200001  \n2      18.799999      11.5  49.299999    77.769997  45.400002  \n3      18.000000      13.4  47.099998    82.419998  43.599998  \n4      19.500000      18.0  48.799999    82.059998  47.000000  \n...          ...       ...        ...          ...        ...  \n19995  14.400000       3.8  31.100000    47.720001  28.799999  \n19996  17.600000       1.9  26.600000    41.580002  21.400000  \n19997  24.000000       1.0  24.299999    51.840000  29.400000  \n19998  30.799999       2.7  24.200001    53.709999  23.200001  \n19999  41.200001       1.1  63.200001    56.070000  28.799999  \n\n[20000 rows x 11 columns]\n"
     ]
    }
   ],
   "source": [
    "df = pd.read_excel(\n",
    "     os.path.join(\"../datasets\", \"training\", \"PM10.xlsx\"),\n",
    "     engine='openpyxl',\n",
    "     parse_dates=True,\n",
    "     thousands='.'\n",
    ")\n",
    "print (df)"
   ]
  },
  {
   "cell_type": "code",
   "execution_count": 10,
   "metadata": {},
   "outputs": [
    {
     "output_type": "stream",
     "name": "stdout",
     "text": [
      "2.8284271247461903\n"
     ]
    }
   ],
   "source": [
    "import numpy as np\n",
    "from scipy.spatial.distance import euclidean\n",
    "\n",
    "from fastdtw import fastdtw\n",
    "\n",
    "x = np.array([[1,1], [2,2], [3,3], [4,4], [5,5]])\n",
    "y = np.array([[2,2], [3,3], [4,4]])\n",
    "distance, path = fastdtw(x, y, dist=euclidean)\n",
    "print(distance)"
   ]
  },
  {
   "cell_type": "code",
   "execution_count": 16,
   "metadata": {},
   "outputs": [],
   "source": [
    "sehirList = ['Aksaray', 'Besiktas','Buyukada','Catladıkapı','Esenler','Kadıkoy','Kandilli','Kartal','Mecidiyekoy','Umraniye']\n",
    "n_sensors = len(sehirList)"
   ]
  },
  {
   "cell_type": "code",
   "execution_count": 18,
   "metadata": {},
   "outputs": [],
   "source": [
    "\n",
    "# Preparing adjacency matrix for the sensor nodes\n",
    "dtw_matrix = np.zeros ((n_sensors, n_sensors))\n",
    "\n",
    "ix = 0\n",
    "for s_sehir in sehirList:\n",
    "    o_ix = 0\n",
    "    for o_sehir in sehirList:\n",
    "        distance, path = fastdtw(df[s_sehir], df[o_sehir], dist=euclidean)\n",
    "        dtw_matrix [ix][o_ix] = distance\n",
    "        o_ix += 1\n",
    "    ix += 1\n"
   ]
  },
  {
   "cell_type": "code",
   "execution_count": 22,
   "metadata": {},
   "outputs": [
    {
     "output_type": "execute_result",
     "data": {
      "text/plain": [
       "array([[1.00000000e+00, 4.45086783e-01, 4.53423780e-01, 5.32355890e-01,\n",
       "        6.30163232e-01, 6.35399538e-01, 3.75464704e-01, 4.98378437e-01,\n",
       "        4.64685538e-01, 5.39603568e-01],\n",
       "       [5.30907880e-01, 1.00000000e+00, 6.00842666e-01, 6.94119237e-01,\n",
       "        6.31160736e-01, 6.27805640e-01, 5.74407828e-01, 3.73059408e-01,\n",
       "        3.57943383e-01, 6.95721102e-01],\n",
       "       [4.74394411e-01, 6.28788178e-01, 1.00000000e+00, 7.08955514e-01,\n",
       "        5.43727484e-01, 5.38513468e-01, 7.68863204e-01, 3.81356032e-01,\n",
       "        1.86586592e-01, 5.99261377e-01],\n",
       "       [5.27453799e-01, 7.14560642e-01, 6.83591132e-01, 1.00000000e+00,\n",
       "        6.17029679e-01, 5.70370428e-01, 6.90865153e-01, 4.00860572e-01,\n",
       "        3.88520264e-01, 6.15270995e-01],\n",
       "       [6.35289484e-01, 6.07648881e-01, 5.22595825e-01, 6.23576659e-01,\n",
       "        1.00000000e+00, 6.87408423e-01, 4.47231593e-01, 4.47393246e-01,\n",
       "        3.58353327e-01, 6.26396916e-01],\n",
       "       [6.39764296e-01, 6.23940337e-01, 5.38041763e-01, 5.72628722e-01,\n",
       "        6.88175530e-01, 1.00000000e+00, 4.76326127e-01, 4.50780296e-01,\n",
       "        3.69089615e-01, 6.56044059e-01],\n",
       "       [3.78151209e-01, 5.76988647e-01, 7.75497167e-01, 6.73692329e-01,\n",
       "        4.48221303e-01, 5.13637162e-01, 1.00000000e+00, 3.12377906e-01,\n",
       "        1.55884176e-06, 5.72490920e-01],\n",
       "       [4.79197512e-01, 3.59450719e-01, 3.76284963e-01, 3.99483959e-01,\n",
       "        4.60656962e-01, 4.50531661e-01, 2.64760123e-01, 1.00000000e+00,\n",
       "        3.55367083e-01, 3.39497076e-01],\n",
       "       [4.83361445e-01, 3.04913658e-01, 2.07659765e-01, 3.90860881e-01,\n",
       "        3.58656241e-01, 3.51808528e-01, 3.67311521e-03, 3.44062004e-01,\n",
       "        1.00000000e+00, 3.30365208e-01],\n",
       "       [5.28630413e-01, 7.01363175e-01, 5.73142672e-01, 5.87457827e-01,\n",
       "        6.32525659e-01, 6.76721783e-01, 5.49790599e-01, 3.60387893e-01,\n",
       "        3.44840738e-01, 1.00000000e+00]])"
      ]
     },
     "metadata": {},
     "execution_count": 22
    }
   ],
   "source": [
    "# Take the absolute of the difference between all values and the max value\n",
    "# Then divide it by the max value to get the weighted adjacency matrix\n",
    "# Add 1 to the max value so that the weights will never be lost\n",
    "max_val = np.max (dtw_matrix) + 1\n",
    "dtw_matrix = (max_val - dtw_matrix)/max_val\n",
    "dtw_matrix"
   ]
  },
  {
   "cell_type": "code",
   "execution_count": 23,
   "metadata": {},
   "outputs": [],
   "source": [
    "# export to excel\n",
    "workbook = xlsxwriter.Workbook('../datasets/training/dtw_adj.xlsx')\n",
    "worksheet = workbook.add_worksheet()\n",
    "\n",
    "row = 0\n",
    "\n",
    "for col, data in enumerate(dtw_matrix):\n",
    "    worksheet.write_column(row, col, data)\n",
    "\n",
    "workbook.close()"
   ]
  }
 ],
 "metadata": {
  "kernelspec": {
   "name": "python374jvsc74a57bd0fc9c1e1bd2f958361b34454cff99611c970e5cf7b1a4a61c9cc910440db53ba1",
   "display_name": "Python 3.7.4 64-bit ('base': conda)"
  },
  "language_info": {
   "codemirror_mode": {
    "name": "ipython",
    "version": 3
   },
   "file_extension": ".py",
   "mimetype": "text/x-python",
   "name": "python",
   "nbconvert_exporter": "python",
   "pygments_lexer": "ipython3",
   "version": "3.7.4"
  },
  "metadata": {
   "interpreter": {
    "hash": "aee8b7b246df8f9039afb4144a1f6fd8d2ca17a180786b69acc140d282b71a49"
   }
  }
 },
 "nbformat": 4,
 "nbformat_minor": 5
}