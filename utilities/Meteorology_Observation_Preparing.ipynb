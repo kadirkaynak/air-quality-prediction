{
 "cells": [
  {
   "source": [
    "# Data Dictionary\n",
    "#### DATE_TIME \n",
    "It is the field that contains date and time information. Data format YYYY-MM-DD HH24: MI: SS format. The date break is hourly.\n",
    "#### OBSERVATORY_NAME\n",
    "It indicates the type number of the sensor where the measurement is made.\n",
    "#### AVERAGE_TEMPERATURE\n",
    "Average temperature (& ordm; C) measured from the respective sensor at the given hour.\n",
    "#### AVERAGE_HUMIDITY\n",
    "Average wind speed (km / h) measured from the relevant sensor for the given hour.\n",
    "#### AVERAGE_WIND\n",
    "Average wind direction (km / h) measured from the respective sensor at the given hour.\n",
    "#### AVERAGE_DIRECTIONOFWIND\n",
    "Average precipitation amount (kg / m²) measured from the relevant sensor in the given hour.\n",
    "#### AVERAGE_PRECIPITATION\n",
    "Average amount of precipitation (kg / m²) measured from the relevant sensor in the given hour.\n",
    "#### AVERAGE_ROAD_TEMPERATURE\n",
    "Average road temperature (& ordm; C) measured from the respective sensor at the given hour."
   ],
   "cell_type": "markdown",
   "metadata": {}
  },
  {
   "cell_type": "code",
   "execution_count": 18,
   "id": "1b062717",
   "metadata": {},
   "outputs": [],
   "source": [
    "import os\n",
    "import pandas as pd\n",
    "import numpy as np\n",
    "\n",
    "import locale\n",
    "from locale import atof\n",
    "import xlsxwriter\n",
    "\n",
    "from PreProcessingUtil import preprocessing"
   ]
  },
  {
   "cell_type": "code",
   "execution_count": 19,
   "metadata": {},
   "outputs": [],
   "source": [
    "# Select rows in a DataFrame between two dates\n",
    "def selectedDateFrame(dfPol, dfMet):\n",
    "    dfPol = dfPol[(startDate<=dfPol['Tarih']) & (dfPol['Tarih']<endDate)]\n",
    "    dfMet = dfMet[(startDate<=dfMet['DATE_TIME']) & (dfMet['DATE_TIME']<endDate)]\n",
    "    return dfPol, dfMet\n",
    "\n",
    "# Function to fill missing rows\n",
    "def fillingEmptyRows(dfTrue,dfFalse):\n",
    "    for x in range (dfTrue.shape[0]):\n",
    "        if not (str(dfTrue['Tarih'].iloc[x])[:13] == str(dfFalse['DATE_TIME'].iloc[x])[:13]):\n",
    "            temp = dfFalse.iloc[x-1] # get previous value\n",
    "            temp['DATE_TIME'] = dfTrue['Tarih'].iloc[x] # set true date\n",
    "            dfFalse = Insert_row(x, dfFalse, temp) # insert missing value        \n",
    "    return dfTrue, dfFalse\n",
    "\n",
    "# Function to insert row in the dataframe\n",
    "def Insert_row(row_number, df, row_value):\n",
    "    # Starting value of upper half\n",
    "    start_upper = 0\n",
    "   \n",
    "    # End value of upper half\n",
    "    end_upper = row_number\n",
    "   \n",
    "    # Start value of lower half\n",
    "    start_lower = row_number\n",
    "   \n",
    "    # End value of lower half\n",
    "    end_lower = df.shape[0]\n",
    "   \n",
    "    # Create a list of upper_half index\n",
    "    upper_half = [*range(start_upper, end_upper, 1)]\n",
    "   \n",
    "    # Create a list of lower_half index\n",
    "    lower_half = [*range(start_lower, end_lower, 1)]\n",
    "   \n",
    "    # Increment the value of lower half by 1\n",
    "    lower_half = [x.__add__(1) for x in lower_half]\n",
    "   \n",
    "    # Combine the two lists\n",
    "    index_ = upper_half + lower_half\n",
    "   \n",
    "    # Update the index of the dataframe\n",
    "    df.index = index_\n",
    "   \n",
    "    # Insert a row at the end\n",
    "    df.loc[row_number] = row_value\n",
    "    \n",
    "    # Sort the index labels\n",
    "    df = df.sort_index()\n",
    "   \n",
    "    # return the dataframe\n",
    "    return df"
   ]
  },
  {
   "cell_type": "code",
   "execution_count": 20,
   "metadata": {},
   "outputs": [],
   "source": [
    "# creating dataframes per town\n",
    "df1  = pd.read_csv(os.path.join(\"../\", \"datasets\", \"meteorology_observation\", \"meteorology_observation_202001.csv\"))\n",
    "df2  = pd.read_csv(os.path.join(\"../\", \"datasets\", \"meteorology_observation\", \"meteorology_observation_202002.csv\"))\n",
    "df3  = pd.read_csv(os.path.join(\"../\", \"datasets\", \"meteorology_observation\", \"meteorology_observation_202003.csv\"))\n",
    "df4  = pd.read_csv(os.path.join(\"../\", \"datasets\", \"meteorology_observation\", \"meteorology_observation_202004.csv\"))\n",
    "df5  = pd.read_csv(os.path.join(\"../\", \"datasets\", \"meteorology_observation\", \"meteorology_observation_202005.csv\"))\n",
    "df6  = pd.read_csv(os.path.join(\"../\", \"datasets\", \"meteorology_observation\", \"meteorology_observation_202006.csv\"))\n",
    "df7  = pd.read_csv(os.path.join(\"../\", \"datasets\", \"meteorology_observation\", \"meteorology_observation_202007.csv\"))\n",
    "df8  = pd.read_csv(os.path.join(\"../\", \"datasets\", \"meteorology_observation\", \"meteorology_observation_202008.csv\"))\n",
    "df9  = pd.read_csv(os.path.join(\"../\", \"datasets\", \"meteorology_observation\", \"meteorology_observation_202009.csv\"))\n",
    "df10 = pd.read_csv(os.path.join(\"../\", \"datasets\", \"meteorology_observation\", \"meteorology_observation_202010.csv\"))\n",
    "df11 = pd.read_csv(os.path.join(\"../\", \"datasets\", \"meteorology_observation\", \"meteorology_observation_202011.csv\"))\n",
    "df12 = pd.read_csv(os.path.join(\"../\", \"datasets\", \"meteorology_observation\", \"meteorology_observation_202012.csv\"))\n",
    "df13 = pd.read_csv(os.path.join(\"../\", \"datasets\", \"meteorology_observation\", \"meteorology_observation_202101.csv\"))\n",
    "df14 = pd.read_csv(os.path.join(\"../\", \"datasets\", \"meteorology_observation\", \"meteorology_observation_202102.csv\"))"
   ]
  },
  {
   "cell_type": "code",
   "execution_count": 21,
   "metadata": {},
   "outputs": [],
   "source": [
    "# concat all dataframes\n",
    "bigdata = pd.concat([df1, df2, df3, df4, df5, df6, df7, df8, df9, df10, df11, df12, df13, df14], ignore_index=True, sort=False)"
   ]
  },
  {
   "cell_type": "code",
   "execution_count": 22,
   "metadata": {},
   "outputs": [
    {
     "output_type": "execute_result",
     "data": {
      "text/plain": [
       "array(['BEYKOZ_ANADOLU_FENERI', 'ISTOC_MAHMUTBEY',\n",
       "       'GUNGOREN_DAVUTPASA_MARMARA', 'KILYOS', 'SILE_DARLIK', 'PASAKOY',\n",
       "       'SANCAKTEPE_MGM', 'ESENLER', 'HACIOSMAN_SARIYER', 'SILE_ISAKOY',\n",
       "       'DURUSU', 'SUBASI', 'CAMLICA_TUNEL_K', 'BAYRAMOGLU_TUZLA',\n",
       "       'KAMILOBA', 'CAMLICA_LIBADIYE', 'SARIYER_ITU_MASLAK', 'CATALCA',\n",
       "       'BUYUKADA', 'SABIHAGOKCEN', 'EMINONU', 'OLIMPIYAT', 'G_O_PASA',\n",
       "       'BESIKTAS_YILDIZ', 'SILIVRI_ORMAN_SAHASI', 'USKUDAR_MGM', 'SILE',\n",
       "       'RIVA_TUNEL_G', 'BUYUKCEKMECE_MGM', 'KARTAL_AYDOS_DAGI',\n",
       "       'UMRANIYE', 'ODAYERI', 'ARNAVUTKOY_MGM', 'HADIMKOY', 'BEYKOZ',\n",
       "       'SUREYYAPASA', 'SAMANDIRA', 'SARIYER', 'AKOM', 'CATALCA_MGM',\n",
       "       'B_CEKMECE_SVIRAJLARI', 'BAHCESEHIR_I_KULE', 'SILIVRI_MGM',\n",
       "       'TERKOS', 'CAVUSBASI', 'CANTA', 'TERKOS_BARAJI', 'PENDIK',\n",
       "       'CEKMEKOY_OMERLI_MGM', 'SISLİ_MGM', 'KARTAL', 'CIFTALAN', 'SILE_2',\n",
       "       'KADIKOY_GOZTEPE_MGM', 'GOZTEPE', 'BEYLİKDUZU_MGM', 'YSS_KOPRUSU',\n",
       "       'BEYKOZ_MGM', 'AHL_BAKIRKOY', 'MASLAK_ITU', 'UMRANIYE_MGM',\n",
       "       'CAMLICA_TUNEL_G', 'EYUP_MGM', 'TUZLA_MGM', 'ATASEHIR',\n",
       "       'BASAKSEHIR', 'BEYLIKDUZU_H_DERE', 'PENDIK_OMERL_BARAJI',\n",
       "       'SELIMPASA_KAVAKLI', 'ZEKERIYAKOY', 'RIVA_TUNEL_K',\n",
       "       'SARIYER_YSS_KOPRU_MGM', 'ARNAVUTKOY', 'FLORYA', 'HALIC',\n",
       "       'KARTAL_U_MUMCU', 'ZINCIRLIKUYU', 'ALIBAHADIR', 'YENIKAPI',\n",
       "       'YENIKAPI_AWOS', 'OMERLI', 'USKUMRUKOY', 'KINALI'], dtype=object)"
      ]
     },
     "metadata": {},
     "execution_count": 22
    }
   ],
   "source": [
    "# distinct town names\n",
    "bigdata['OBSERVATORY_NAME'].unique()"
   ]
  },
  {
   "cell_type": "code",
   "execution_count": 23,
   "metadata": {},
   "outputs": [],
   "source": [
    "# selected columns\n",
    "reducedData = bigdata[[\"DATE_TIME\", \"OBSERVATORY_NAME\", \"AVERAGE_TEMPERATURE\", \"AVERAGE_HUMIDITY\", \"AVERAGE_WIND\", \"AVERAGE_DIRECTIONOFWIND\", \"AVERAGE_PRECIPITATION\", \"AVERAGE_ROAD_TEMPERATURE\"]]"
   ]
  },
  {
   "cell_type": "code",
   "execution_count": 24,
   "metadata": {},
   "outputs": [],
   "source": [
    "# town names different in meteorology and pollutant datasets, so find and give the convenient\n",
    "polTownName = 'umraniye'\n",
    "metTownName = 'UMRANIYE'"
   ]
  },
  {
   "cell_type": "code",
   "execution_count": 25,
   "metadata": {},
   "outputs": [],
   "source": [
    "# all pollutant values according to a particular town (sorted by date time)\n",
    "polPath = polTownName + '.xlsx'\n",
    "dfPollutant = pd.read_excel(os.path.join(\"../\", \"datasets\", \"pollutants\", polPath),engine='openpyxl',parse_dates=True,thousands='.')"
   ]
  },
  {
   "cell_type": "code",
   "execution_count": 26,
   "metadata": {},
   "outputs": [],
   "source": [
    "# all meteorology values according to a particular town (sorted by date time)\n",
    "dfMeteorology = reducedData[reducedData['OBSERVATORY_NAME']==metTownName].sort_values('DATE_TIME')"
   ]
  },
  {
   "cell_type": "code",
   "execution_count": 27,
   "metadata": {},
   "outputs": [],
   "source": [
    "# determining dates\n",
    "startDate = '2020-01-01 00:00:00'\n",
    "endDate = '2021-02-21 00:00:00'"
   ]
  },
  {
   "cell_type": "code",
   "execution_count": 28,
   "metadata": {},
   "outputs": [],
   "source": [
    "# pooling selected rows according to determined date time\n",
    "dfPol, dfMet = selectedDateFrame(dfPollutant, dfMeteorology)"
   ]
  },
  {
   "cell_type": "code",
   "execution_count": 29,
   "metadata": {},
   "outputs": [
    {
     "output_type": "stream",
     "name": "stderr",
     "text": [
      "ipykernel_launcher:12: SettingWithCopyWarning: \nA value is trying to be set on a copy of a slice from a DataFrame\n\nSee the caveats in the documentation: http://pandas.pydata.org/pandas-docs/stable/user_guide/indexing.html#returning-a-view-versus-a-copy\n"
     ]
    }
   ],
   "source": [
    "# filling the missing rows with previous row value\n",
    "dfPol, dfMet = fillingEmptyRows(dfPol, dfMet)"
   ]
  },
  {
   "cell_type": "code",
   "execution_count": 30,
   "metadata": {},
   "outputs": [],
   "source": [
    "# making preprocessing (fixing values, filling empty rows)\n",
    "dfPol = preprocessing(dfPol)"
   ]
  },
  {
   "cell_type": "code",
   "execution_count": 31,
   "metadata": {},
   "outputs": [
    {
     "output_type": "execute_result",
     "data": {
      "text/plain": [
       "                    Tarih  PM10 ( µg/m3 )  SO2 ( µg/m3 )  CO ( µg/m3 )  \\\n",
       "70127 2020-01-01 00:00:56       44.400002       6.300000             0   \n",
       "70128 2020-01-01 01:00:56       41.599998       5.900000             0   \n",
       "70129 2020-01-01 02:00:56       59.500000       5.900000             0   \n",
       "70130 2020-01-01 03:00:56       45.500000       5.500000             0   \n",
       "70131 2020-01-01 04:00:56       25.700001       5.900000             0   \n",
       "...                   ...             ...            ...           ...   \n",
       "80130 2021-02-20 19:00:56       53.299999      52.599998             0   \n",
       "80131 2021-02-20 20:00:56       45.700001      49.700001             0   \n",
       "80132 2021-02-20 21:00:56       44.900002       7.300000             0   \n",
       "80133 2021-02-20 22:00:56       33.099998       7.500000             0   \n",
       "80134 2021-02-20 23:00:56       38.299999       7.800000             0   \n",
       "\n",
       "       NO2 ( µg/m3 )  NOX ( µg/m3 )  O3 ( µg/m3 )  PM 2.5 ( µg/m3 )  \n",
       "70127      92.199997     217.399994      3.100000         33.400002  \n",
       "70128      95.300003     223.600006      3.000000         39.599998  \n",
       "70129      78.000000     141.500000      6.800000         42.200001  \n",
       "70130      51.700001      12.800000     14.600000         36.599998  \n",
       "70131      82.699997      90.599998      5.600000         34.000000  \n",
       "...              ...            ...           ...               ...  \n",
       "80130     158.699997      26.500000     32.200001          9.300000  \n",
       "80131     180.000000      32.000000     47.299999          9.700000  \n",
       "80132     178.300003      31.600000     16.600000         12.100000  \n",
       "80133     147.300003      28.000000     28.500000          9.000000  \n",
       "80134     217.100006      24.000000     32.099998         10.300000  \n",
       "\n",
       "[10008 rows x 8 columns]"
      ],
      "text/html": "<div>\n<style scoped>\n    .dataframe tbody tr th:only-of-type {\n        vertical-align: middle;\n    }\n\n    .dataframe tbody tr th {\n        vertical-align: top;\n    }\n\n    .dataframe thead th {\n        text-align: right;\n    }\n</style>\n<table border=\"1\" class=\"dataframe\">\n  <thead>\n    <tr style=\"text-align: right;\">\n      <th></th>\n      <th>Tarih</th>\n      <th>PM10 ( µg/m3 )</th>\n      <th>SO2 ( µg/m3 )</th>\n      <th>CO ( µg/m3 )</th>\n      <th>NO2 ( µg/m3 )</th>\n      <th>NOX ( µg/m3 )</th>\n      <th>O3 ( µg/m3 )</th>\n      <th>PM 2.5 ( µg/m3 )</th>\n    </tr>\n  </thead>\n  <tbody>\n    <tr>\n      <td>70127</td>\n      <td>2020-01-01 00:00:56</td>\n      <td>44.400002</td>\n      <td>6.300000</td>\n      <td>0</td>\n      <td>92.199997</td>\n      <td>217.399994</td>\n      <td>3.100000</td>\n      <td>33.400002</td>\n    </tr>\n    <tr>\n      <td>70128</td>\n      <td>2020-01-01 01:00:56</td>\n      <td>41.599998</td>\n      <td>5.900000</td>\n      <td>0</td>\n      <td>95.300003</td>\n      <td>223.600006</td>\n      <td>3.000000</td>\n      <td>39.599998</td>\n    </tr>\n    <tr>\n      <td>70129</td>\n      <td>2020-01-01 02:00:56</td>\n      <td>59.500000</td>\n      <td>5.900000</td>\n      <td>0</td>\n      <td>78.000000</td>\n      <td>141.500000</td>\n      <td>6.800000</td>\n      <td>42.200001</td>\n    </tr>\n    <tr>\n      <td>70130</td>\n      <td>2020-01-01 03:00:56</td>\n      <td>45.500000</td>\n      <td>5.500000</td>\n      <td>0</td>\n      <td>51.700001</td>\n      <td>12.800000</td>\n      <td>14.600000</td>\n      <td>36.599998</td>\n    </tr>\n    <tr>\n      <td>70131</td>\n      <td>2020-01-01 04:00:56</td>\n      <td>25.700001</td>\n      <td>5.900000</td>\n      <td>0</td>\n      <td>82.699997</td>\n      <td>90.599998</td>\n      <td>5.600000</td>\n      <td>34.000000</td>\n    </tr>\n    <tr>\n      <td>...</td>\n      <td>...</td>\n      <td>...</td>\n      <td>...</td>\n      <td>...</td>\n      <td>...</td>\n      <td>...</td>\n      <td>...</td>\n      <td>...</td>\n    </tr>\n    <tr>\n      <td>80130</td>\n      <td>2021-02-20 19:00:56</td>\n      <td>53.299999</td>\n      <td>52.599998</td>\n      <td>0</td>\n      <td>158.699997</td>\n      <td>26.500000</td>\n      <td>32.200001</td>\n      <td>9.300000</td>\n    </tr>\n    <tr>\n      <td>80131</td>\n      <td>2021-02-20 20:00:56</td>\n      <td>45.700001</td>\n      <td>49.700001</td>\n      <td>0</td>\n      <td>180.000000</td>\n      <td>32.000000</td>\n      <td>47.299999</td>\n      <td>9.700000</td>\n    </tr>\n    <tr>\n      <td>80132</td>\n      <td>2021-02-20 21:00:56</td>\n      <td>44.900002</td>\n      <td>7.300000</td>\n      <td>0</td>\n      <td>178.300003</td>\n      <td>31.600000</td>\n      <td>16.600000</td>\n      <td>12.100000</td>\n    </tr>\n    <tr>\n      <td>80133</td>\n      <td>2021-02-20 22:00:56</td>\n      <td>33.099998</td>\n      <td>7.500000</td>\n      <td>0</td>\n      <td>147.300003</td>\n      <td>28.000000</td>\n      <td>28.500000</td>\n      <td>9.000000</td>\n    </tr>\n    <tr>\n      <td>80134</td>\n      <td>2021-02-20 23:00:56</td>\n      <td>38.299999</td>\n      <td>7.800000</td>\n      <td>0</td>\n      <td>217.100006</td>\n      <td>24.000000</td>\n      <td>32.099998</td>\n      <td>10.300000</td>\n    </tr>\n  </tbody>\n</table>\n<p>10008 rows × 8 columns</p>\n</div>"
     },
     "metadata": {},
     "execution_count": 31
    }
   ],
   "source": [
    "dfPol"
   ]
  },
  {
   "cell_type": "code",
   "execution_count": 32,
   "metadata": {},
   "outputs": [],
   "source": [
    "# reset index values\n",
    "dfMet = dfMet.reset_index(drop=True)\n",
    "dfPol = dfPol.reset_index(drop=True)"
   ]
  },
  {
   "cell_type": "code",
   "execution_count": 33,
   "metadata": {},
   "outputs": [
    {
     "output_type": "display_data",
     "data": {
      "text/plain": "                    Tarih  PM10 ( µg/m3 )  SO2 ( µg/m3 )  CO ( µg/m3 )  \\\n0     2020-01-01 00:00:56       44.400002       6.300000             0   \n1     2020-01-01 01:00:56       41.599998       5.900000             0   \n2     2020-01-01 02:00:56       59.500000       5.900000             0   \n3     2020-01-01 03:00:56       45.500000       5.500000             0   \n4     2020-01-01 04:00:56       25.700001       5.900000             0   \n...                   ...             ...            ...           ...   \n10003 2021-02-20 19:00:56       53.299999      52.599998             0   \n10004 2021-02-20 20:00:56       45.700001      49.700001             0   \n10005 2021-02-20 21:00:56       44.900002       7.300000             0   \n10006 2021-02-20 22:00:56       33.099998       7.500000             0   \n10007 2021-02-20 23:00:56       38.299999       7.800000             0   \n\n       NO2 ( µg/m3 )  NOX ( µg/m3 )  O3 ( µg/m3 )  PM 2.5 ( µg/m3 )  \\\n0          92.199997     217.399994      3.100000         33.400002   \n1          95.300003     223.600006      3.000000         39.599998   \n2          78.000000     141.500000      6.800000         42.200001   \n3          51.700001      12.800000     14.600000         36.599998   \n4          82.699997      90.599998      5.600000         34.000000   \n...              ...            ...           ...               ...   \n10003     158.699997      26.500000     32.200001          9.300000   \n10004     180.000000      32.000000     47.299999          9.700000   \n10005     178.300003      31.600000     16.600000         12.100000   \n10006     147.300003      28.000000     28.500000          9.000000   \n10007     217.100006      24.000000     32.099998         10.300000   \n\n                 DATE_TIME OBSERVATORY_NAME  AVERAGE_TEMPERATURE  \\\n0      2020-01-01 00:00:00         UMRANIYE              7.56148   \n1      2020-01-01 01:00:00         UMRANIYE              7.42827   \n2      2020-01-01 02:00:00         UMRANIYE              6.87673   \n3      2020-01-01 03:00:00         UMRANIYE              6.01190   \n4      2020-01-01 04:00:00         UMRANIYE              5.97140   \n...                    ...              ...                  ...   \n10003  2021-02-20 19:00:00         UMRANIYE              3.03206   \n10004  2021-02-20 20:00:00         UMRANIYE              3.08695   \n10005  2021-02-20 21:00:00         UMRANIYE              3.08978   \n10006  2021-02-20 22:00:00         UMRANIYE              2.67189   \n10007  2021-02-20 23:00:00         UMRANIYE              2.41108   \n\n       AVERAGE_HUMIDITY  AVERAGE_WIND  AVERAGE_DIRECTIONOFWIND  \\\n0              99.99792       0.00000                258.60417   \n1              99.99831       0.00000                267.05085   \n2              99.76102       0.00000                270.44068   \n3              96.33966       0.00000                282.00000   \n4              97.14167       0.00000                282.00000   \n...                 ...           ...                      ...   \n10003         100.00000       2.09898                 63.18367   \n10004         100.00000       2.49364                 70.89091   \n10005         100.00000       2.23963                 60.50000   \n10006         100.00000       1.54585                 46.00000   \n10007         100.00000       1.43776                 49.00000   \n\n       AVERAGE_PRECIPITATION  AVERAGE_ROAD_TEMPERATURE  \n0                        0.0                   5.13750  \n1                        0.0                   4.90000  \n2                        0.0                   4.62203  \n3                        0.0                   4.27586  \n4                        0.0                   4.66500  \n...                      ...                       ...  \n10003                    0.0                   1.15714  \n10004                    0.0                   0.76000  \n10005                    0.0                   0.54630  \n10006                    0.0                   0.13774  \n10007                    0.0                  -0.45306  \n\n[10008 rows x 16 columns]",
      "text/html": "<div>\n<style scoped>\n    .dataframe tbody tr th:only-of-type {\n        vertical-align: middle;\n    }\n\n    .dataframe tbody tr th {\n        vertical-align: top;\n    }\n\n    .dataframe thead th {\n        text-align: right;\n    }\n</style>\n<table border=\"1\" class=\"dataframe\">\n  <thead>\n    <tr style=\"text-align: right;\">\n      <th></th>\n      <th>Tarih</th>\n      <th>PM10 ( µg/m3 )</th>\n      <th>SO2 ( µg/m3 )</th>\n      <th>CO ( µg/m3 )</th>\n      <th>NO2 ( µg/m3 )</th>\n      <th>NOX ( µg/m3 )</th>\n      <th>O3 ( µg/m3 )</th>\n      <th>PM 2.5 ( µg/m3 )</th>\n      <th>DATE_TIME</th>\n      <th>OBSERVATORY_NAME</th>\n      <th>AVERAGE_TEMPERATURE</th>\n      <th>AVERAGE_HUMIDITY</th>\n      <th>AVERAGE_WIND</th>\n      <th>AVERAGE_DIRECTIONOFWIND</th>\n      <th>AVERAGE_PRECIPITATION</th>\n      <th>AVERAGE_ROAD_TEMPERATURE</th>\n    </tr>\n  </thead>\n  <tbody>\n    <tr>\n      <td>0</td>\n      <td>2020-01-01 00:00:56</td>\n      <td>44.400002</td>\n      <td>6.300000</td>\n      <td>0</td>\n      <td>92.199997</td>\n      <td>217.399994</td>\n      <td>3.100000</td>\n      <td>33.400002</td>\n      <td>2020-01-01 00:00:00</td>\n      <td>UMRANIYE</td>\n      <td>7.56148</td>\n      <td>99.99792</td>\n      <td>0.00000</td>\n      <td>258.60417</td>\n      <td>0.0</td>\n      <td>5.13750</td>\n    </tr>\n    <tr>\n      <td>1</td>\n      <td>2020-01-01 01:00:56</td>\n      <td>41.599998</td>\n      <td>5.900000</td>\n      <td>0</td>\n      <td>95.300003</td>\n      <td>223.600006</td>\n      <td>3.000000</td>\n      <td>39.599998</td>\n      <td>2020-01-01 01:00:00</td>\n      <td>UMRANIYE</td>\n      <td>7.42827</td>\n      <td>99.99831</td>\n      <td>0.00000</td>\n      <td>267.05085</td>\n      <td>0.0</td>\n      <td>4.90000</td>\n    </tr>\n    <tr>\n      <td>2</td>\n      <td>2020-01-01 02:00:56</td>\n      <td>59.500000</td>\n      <td>5.900000</td>\n      <td>0</td>\n      <td>78.000000</td>\n      <td>141.500000</td>\n      <td>6.800000</td>\n      <td>42.200001</td>\n      <td>2020-01-01 02:00:00</td>\n      <td>UMRANIYE</td>\n      <td>6.87673</td>\n      <td>99.76102</td>\n      <td>0.00000</td>\n      <td>270.44068</td>\n      <td>0.0</td>\n      <td>4.62203</td>\n    </tr>\n    <tr>\n      <td>3</td>\n      <td>2020-01-01 03:00:56</td>\n      <td>45.500000</td>\n      <td>5.500000</td>\n      <td>0</td>\n      <td>51.700001</td>\n      <td>12.800000</td>\n      <td>14.600000</td>\n      <td>36.599998</td>\n      <td>2020-01-01 03:00:00</td>\n      <td>UMRANIYE</td>\n      <td>6.01190</td>\n      <td>96.33966</td>\n      <td>0.00000</td>\n      <td>282.00000</td>\n      <td>0.0</td>\n      <td>4.27586</td>\n    </tr>\n    <tr>\n      <td>4</td>\n      <td>2020-01-01 04:00:56</td>\n      <td>25.700001</td>\n      <td>5.900000</td>\n      <td>0</td>\n      <td>82.699997</td>\n      <td>90.599998</td>\n      <td>5.600000</td>\n      <td>34.000000</td>\n      <td>2020-01-01 04:00:00</td>\n      <td>UMRANIYE</td>\n      <td>5.97140</td>\n      <td>97.14167</td>\n      <td>0.00000</td>\n      <td>282.00000</td>\n      <td>0.0</td>\n      <td>4.66500</td>\n    </tr>\n    <tr>\n      <td>...</td>\n      <td>...</td>\n      <td>...</td>\n      <td>...</td>\n      <td>...</td>\n      <td>...</td>\n      <td>...</td>\n      <td>...</td>\n      <td>...</td>\n      <td>...</td>\n      <td>...</td>\n      <td>...</td>\n      <td>...</td>\n      <td>...</td>\n      <td>...</td>\n      <td>...</td>\n      <td>...</td>\n    </tr>\n    <tr>\n      <td>10003</td>\n      <td>2021-02-20 19:00:56</td>\n      <td>53.299999</td>\n      <td>52.599998</td>\n      <td>0</td>\n      <td>158.699997</td>\n      <td>26.500000</td>\n      <td>32.200001</td>\n      <td>9.300000</td>\n      <td>2021-02-20 19:00:00</td>\n      <td>UMRANIYE</td>\n      <td>3.03206</td>\n      <td>100.00000</td>\n      <td>2.09898</td>\n      <td>63.18367</td>\n      <td>0.0</td>\n      <td>1.15714</td>\n    </tr>\n    <tr>\n      <td>10004</td>\n      <td>2021-02-20 20:00:56</td>\n      <td>45.700001</td>\n      <td>49.700001</td>\n      <td>0</td>\n      <td>180.000000</td>\n      <td>32.000000</td>\n      <td>47.299999</td>\n      <td>9.700000</td>\n      <td>2021-02-20 20:00:00</td>\n      <td>UMRANIYE</td>\n      <td>3.08695</td>\n      <td>100.00000</td>\n      <td>2.49364</td>\n      <td>70.89091</td>\n      <td>0.0</td>\n      <td>0.76000</td>\n    </tr>\n    <tr>\n      <td>10005</td>\n      <td>2021-02-20 21:00:56</td>\n      <td>44.900002</td>\n      <td>7.300000</td>\n      <td>0</td>\n      <td>178.300003</td>\n      <td>31.600000</td>\n      <td>16.600000</td>\n      <td>12.100000</td>\n      <td>2021-02-20 21:00:00</td>\n      <td>UMRANIYE</td>\n      <td>3.08978</td>\n      <td>100.00000</td>\n      <td>2.23963</td>\n      <td>60.50000</td>\n      <td>0.0</td>\n      <td>0.54630</td>\n    </tr>\n    <tr>\n      <td>10006</td>\n      <td>2021-02-20 22:00:56</td>\n      <td>33.099998</td>\n      <td>7.500000</td>\n      <td>0</td>\n      <td>147.300003</td>\n      <td>28.000000</td>\n      <td>28.500000</td>\n      <td>9.000000</td>\n      <td>2021-02-20 22:00:00</td>\n      <td>UMRANIYE</td>\n      <td>2.67189</td>\n      <td>100.00000</td>\n      <td>1.54585</td>\n      <td>46.00000</td>\n      <td>0.0</td>\n      <td>0.13774</td>\n    </tr>\n    <tr>\n      <td>10007</td>\n      <td>2021-02-20 23:00:56</td>\n      <td>38.299999</td>\n      <td>7.800000</td>\n      <td>0</td>\n      <td>217.100006</td>\n      <td>24.000000</td>\n      <td>32.099998</td>\n      <td>10.300000</td>\n      <td>2021-02-20 23:00:00</td>\n      <td>UMRANIYE</td>\n      <td>2.41108</td>\n      <td>100.00000</td>\n      <td>1.43776</td>\n      <td>49.00000</td>\n      <td>0.0</td>\n      <td>-0.45306</td>\n    </tr>\n  </tbody>\n</table>\n<p>10008 rows × 16 columns</p>\n</div>"
     },
     "metadata": {}
    }
   ],
   "source": [
    "# concat dataframes\n",
    "result = pd.concat([dfPol, dfMet], axis=1, join='inner')\n",
    "display(result)"
   ]
  },
  {
   "cell_type": "code",
   "execution_count": 34,
   "metadata": {},
   "outputs": [],
   "source": [
    "# create excel writer object\n",
    "path = '../datasets/training/'+polTownName+'_combined.xlsx'\n",
    "writer = pd.ExcelWriter(path)\n",
    "# write dataframe to excel\n",
    "result.to_excel(writer)\n",
    "# save the excel\n",
    "writer.save()"
   ]
  },
  {
   "cell_type": "code",
   "execution_count": null,
   "metadata": {},
   "outputs": [],
   "source": []
  },
  {
   "cell_type": "code",
   "execution_count": null,
   "metadata": {},
   "outputs": [],
   "source": []
  }
 ],
 "metadata": {
  "kernelspec": {
   "name": "python374jvsc74a57bd0fc9c1e1bd2f958361b34454cff99611c970e5cf7b1a4a61c9cc910440db53ba1",
   "display_name": "Python 3.7.4 64-bit ('base': conda)"
  },
  "language_info": {
   "codemirror_mode": {
    "name": "ipython",
    "version": 3
   },
   "file_extension": ".py",
   "mimetype": "text/x-python",
   "name": "python",
   "nbconvert_exporter": "python",
   "pygments_lexer": "ipython3",
   "version": "3.7.4"
  },
  "metadata": {
   "interpreter": {
    "hash": "aee8b7b246df8f9039afb4144a1f6fd8d2ca17a180786b69acc140d282b71a49"
   }
  }
 },
 "nbformat": 4,
 "nbformat_minor": 5
}