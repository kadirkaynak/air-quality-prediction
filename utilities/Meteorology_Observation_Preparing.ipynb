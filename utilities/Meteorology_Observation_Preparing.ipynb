{
 "cells": [
  {
   "source": [
    "# Data Dictionary\n",
    "#### DATE_TIME \n",
    "It is the field that contains date and time information. Data format YYYY-MM-DD HH24: MI: SS format. The date break is hourly.\n",
    "#### OBSERVATORY_NAME\n",
    "It indicates the type number of the sensor where the measurement is made.\n",
    "#### AVERAGE_TEMPERATURE\n",
    "Average humidity (% RH) measured from the respective sensor in the given hour.\n",
    "#### AVERAGE_HUMIDITY\n",
    "Average wind speed (km / h) measured from the relevant sensor for the given hour.\n",
    "#### AVERAGE_WIND\n",
    "Average wind direction (km / h) measured from the respective sensor at the given hour.\n",
    "#### AVERAGE_DIRECTIONOFWIND\n",
    "Average precipitation amount (kg / m²) measured from the relevant sensor in the given hour.\n",
    "#### AVERAGE_PRECIPITATION\n",
    "Average amount of precipitation (kg / m²) measured from the relevant sensor in the given hour.\n",
    "#### AVERAGE_ROAD_TEMPERATURE\n",
    "Average road temperature (& ordm; C) measured from the respective sensor at the given hour."
   ],
   "cell_type": "markdown",
   "metadata": {}
  },
  {
   "cell_type": "code",
   "execution_count": 333,
   "id": "1b062717",
   "metadata": {},
   "outputs": [],
   "source": [
    "import os\n",
    "import pandas as pd\n",
    "import numpy as np\n",
    "\n",
    "import locale\n",
    "from locale import atof\n",
    "import xlsxwriter\n",
    "\n",
    "from PreProcessingUtil import preprocessing"
   ]
  },
  {
   "cell_type": "code",
   "execution_count": 316,
   "metadata": {},
   "outputs": [],
   "source": [
    "# Select rows in a DataFrame between two dates\n",
    "def selectedDateFrame(dfPol, dfMet):\n",
    "    dfPol = dfPol[(startDate<=dfPol['Tarih']) & (dfPol['Tarih']<endDate)]\n",
    "    dfMet = dfMet[(startDate<=dfMet['DATE_TIME']) & (dfMet['DATE_TIME']<endDate)]\n",
    "    return dfPol, dfMet\n",
    "\n",
    "# Function to fill missing rows\n",
    "def fillingEmptyRows(dfTrue,dfFalse):\n",
    "    for x in range (dfTrue.shape[0]):\n",
    "        if not (str(dfTrue['Tarih'].iloc[x])[:13] == str(dfFalse['DATE_TIME'].iloc[x])[:13]):\n",
    "            temp = dfFalse.iloc[x-1] # get previous value\n",
    "            temp['DATE_TIME'] = dfTrue['Tarih'].iloc[x] # set true date\n",
    "            dfFalse = Insert_row(x, dfFalse, temp) # insert missing value        \n",
    "    return dfTrue, dfFalse\n",
    "\n",
    "# Function to insert row in the dataframe\n",
    "def Insert_row(row_number, df, row_value):\n",
    "    # Starting value of upper half\n",
    "    start_upper = 0\n",
    "   \n",
    "    # End value of upper half\n",
    "    end_upper = row_number\n",
    "   \n",
    "    # Start value of lower half\n",
    "    start_lower = row_number\n",
    "   \n",
    "    # End value of lower half\n",
    "    end_lower = df.shape[0]\n",
    "   \n",
    "    # Create a list of upper_half index\n",
    "    upper_half = [*range(start_upper, end_upper, 1)]\n",
    "   \n",
    "    # Create a list of lower_half index\n",
    "    lower_half = [*range(start_lower, end_lower, 1)]\n",
    "   \n",
    "    # Increment the value of lower half by 1\n",
    "    lower_half = [x.__add__(1) for x in lower_half]\n",
    "   \n",
    "    # Combine the two lists\n",
    "    index_ = upper_half + lower_half\n",
    "   \n",
    "    # Update the index of the dataframe\n",
    "    df.index = index_\n",
    "   \n",
    "    # Insert a row at the end\n",
    "    df.loc[row_number] = row_value\n",
    "    \n",
    "    # Sort the index labels\n",
    "    df = df.sort_index()\n",
    "   \n",
    "    # return the dataframe\n",
    "    return df"
   ]
  },
  {
   "cell_type": "code",
   "execution_count": 27,
   "metadata": {},
   "outputs": [],
   "source": [
    "# creating dataframes per town\n",
    "df1  = pd.read_csv(os.path.join(\"../\", \"datasets\", \"meteorology_observation\", \"meteorology_observation_202001.csv\"))\n",
    "df2  = pd.read_csv(os.path.join(\"../\", \"datasets\", \"meteorology_observation\", \"meteorology_observation_202002.csv\"))\n",
    "df3  = pd.read_csv(os.path.join(\"../\", \"datasets\", \"meteorology_observation\", \"meteorology_observation_202003.csv\"))\n",
    "df4  = pd.read_csv(os.path.join(\"../\", \"datasets\", \"meteorology_observation\", \"meteorology_observation_202004.csv\"))\n",
    "df5  = pd.read_csv(os.path.join(\"../\", \"datasets\", \"meteorology_observation\", \"meteorology_observation_202005.csv\"))\n",
    "df6  = pd.read_csv(os.path.join(\"../\", \"datasets\", \"meteorology_observation\", \"meteorology_observation_202006.csv\"))\n",
    "df7  = pd.read_csv(os.path.join(\"../\", \"datasets\", \"meteorology_observation\", \"meteorology_observation_202007.csv\"))\n",
    "df8  = pd.read_csv(os.path.join(\"../\", \"datasets\", \"meteorology_observation\", \"meteorology_observation_202008.csv\"))\n",
    "df9  = pd.read_csv(os.path.join(\"../\", \"datasets\", \"meteorology_observation\", \"meteorology_observation_202009.csv\"))\n",
    "df10 = pd.read_csv(os.path.join(\"../\", \"datasets\", \"meteorology_observation\", \"meteorology_observation_202010.csv\"))\n",
    "df11 = pd.read_csv(os.path.join(\"../\", \"datasets\", \"meteorology_observation\", \"meteorology_observation_202011.csv\"))\n",
    "df12 = pd.read_csv(os.path.join(\"../\", \"datasets\", \"meteorology_observation\", \"meteorology_observation_202012.csv\"))\n",
    "df13 = pd.read_csv(os.path.join(\"../\", \"datasets\", \"meteorology_observation\", \"meteorology_observation_202101.csv\"))\n",
    "df14 = pd.read_csv(os.path.join(\"../\", \"datasets\", \"meteorology_observation\", \"meteorology_observation_202102.csv\"))"
   ]
  },
  {
   "cell_type": "code",
   "execution_count": 302,
   "metadata": {},
   "outputs": [],
   "source": [
    "# concat all dataframes\n",
    "bigdata = pd.concat([df1, df2, df3, df4, df5, df6, df7, df8, df9, df10, df11, df12, df13, df14], ignore_index=True, sort=False)"
   ]
  },
  {
   "cell_type": "code",
   "execution_count": 303,
   "metadata": {},
   "outputs": [
    {
     "output_type": "execute_result",
     "data": {
      "text/plain": [
       "array(['BEYKOZ_ANADOLU_FENERI', 'ISTOC_MAHMUTBEY',\n",
       "       'GUNGOREN_DAVUTPASA_MARMARA', 'KILYOS', 'SILE_DARLIK', 'PASAKOY',\n",
       "       'SANCAKTEPE_MGM', 'ESENLER', 'HACIOSMAN_SARIYER', 'SILE_ISAKOY',\n",
       "       'DURUSU', 'SUBASI', 'CAMLICA_TUNEL_K', 'BAYRAMOGLU_TUZLA',\n",
       "       'KAMILOBA', 'CAMLICA_LIBADIYE', 'SARIYER_ITU_MASLAK', 'CATALCA',\n",
       "       'BUYUKADA', 'SABIHAGOKCEN', 'EMINONU', 'OLIMPIYAT', 'G_O_PASA',\n",
       "       'BESIKTAS_YILDIZ', 'SILIVRI_ORMAN_SAHASI', 'USKUDAR_MGM', 'SILE',\n",
       "       'RIVA_TUNEL_G', 'BUYUKCEKMECE_MGM', 'KARTAL_AYDOS_DAGI',\n",
       "       'UMRANIYE', 'ODAYERI', 'ARNAVUTKOY_MGM', 'HADIMKOY', 'BEYKOZ',\n",
       "       'SUREYYAPASA', 'SAMANDIRA', 'SARIYER', 'AKOM', 'CATALCA_MGM',\n",
       "       'B_CEKMECE_SVIRAJLARI', 'BAHCESEHIR_I_KULE', 'SILIVRI_MGM',\n",
       "       'TERKOS', 'CAVUSBASI', 'CANTA', 'TERKOS_BARAJI', 'PENDIK',\n",
       "       'CEKMEKOY_OMERLI_MGM', 'SISLİ_MGM', 'KARTAL', 'CIFTALAN', 'SILE_2',\n",
       "       'KADIKOY_GOZTEPE_MGM', 'GOZTEPE', 'BEYLİKDUZU_MGM', 'YSS_KOPRUSU',\n",
       "       'BEYKOZ_MGM', 'AHL_BAKIRKOY', 'MASLAK_ITU', 'UMRANIYE_MGM',\n",
       "       'CAMLICA_TUNEL_G', 'EYUP_MGM', 'TUZLA_MGM', 'ATASEHIR',\n",
       "       'BASAKSEHIR', 'BEYLIKDUZU_H_DERE', 'PENDIK_OMERL_BARAJI',\n",
       "       'SELIMPASA_KAVAKLI', 'ZEKERIYAKOY', 'RIVA_TUNEL_K',\n",
       "       'SARIYER_YSS_KOPRU_MGM', 'ARNAVUTKOY', 'FLORYA', 'HALIC',\n",
       "       'KARTAL_U_MUMCU', 'ZINCIRLIKUYU', 'ALIBAHADIR', 'YENIKAPI',\n",
       "       'YENIKAPI_AWOS', 'OMERLI', 'USKUMRUKOY', 'KINALI'], dtype=object)"
      ]
     },
     "metadata": {},
     "execution_count": 303
    }
   ],
   "source": [
    "# distinct town names\n",
    "bigdata['OBSERVATORY_NAME'].unique()"
   ]
  },
  {
   "cell_type": "code",
   "execution_count": 341,
   "metadata": {},
   "outputs": [],
   "source": [
    "# selected columns\n",
    "reducedData = bigdata[[\"DATE_TIME\", \"OBSERVATORY_NAME\", \"AVERAGE_TEMPERATURE\", \"AVERAGE_HUMIDITY\", \"AVERAGE_WIND\", \"AVERAGE_DIRECTIONOFWIND\", \"AVERAGE_PRECIPITATION\", \"AVERAGE_ROAD_TEMPERATURE\"]]"
   ]
  },
  {
   "cell_type": "code",
   "execution_count": 342,
   "metadata": {},
   "outputs": [],
   "source": [
    "# town names different in meteorology and pollutant datasets, so find and give the convenient\n",
    "polTownName = 'kadıkoy'\n",
    "metTownName = 'KADIKOY_GOZTEPE_MGM'"
   ]
  },
  {
   "cell_type": "code",
   "execution_count": 343,
   "metadata": {},
   "outputs": [],
   "source": [
    "# all pollutant values according to a particular town (sorted by date time)\n",
    "polPath = polTownName + '.xlsx'\n",
    "dfPollutant = pd.read_excel(os.path.join(\"../\", \"datasets\", \"pollutants\", polPath),engine='openpyxl',parse_dates=True,thousands='.')"
   ]
  },
  {
   "cell_type": "code",
   "execution_count": 344,
   "metadata": {},
   "outputs": [],
   "source": [
    "# all meteorology values according to a particular town (sorted by date time)\n",
    "dfMeteorology = reducedData[reducedData['OBSERVATORY_NAME']=='KADIKOY_GOZTEPE_MGM'].sort_values('DATE_TIME')"
   ]
  },
  {
   "cell_type": "code",
   "execution_count": 345,
   "metadata": {},
   "outputs": [],
   "source": [
    "# determining dates\n",
    "startDate = '2020-01-01 00:00:00'\n",
    "endDate = '2021-02-21 00:00:00'"
   ]
  },
  {
   "cell_type": "code",
   "execution_count": 346,
   "metadata": {},
   "outputs": [],
   "source": [
    "# pooling selected rows according to determined date time\n",
    "dfPol, dfMet = selectedDateFrame(dfPollutant, dfMeteorology)"
   ]
  },
  {
   "cell_type": "code",
   "execution_count": 347,
   "metadata": {},
   "outputs": [
    {
     "output_type": "stream",
     "name": "stderr",
     "text": [
      "ipykernel_launcher:12: SettingWithCopyWarning: \nA value is trying to be set on a copy of a slice from a DataFrame\n\nSee the caveats in the documentation: http://pandas.pydata.org/pandas-docs/stable/user_guide/indexing.html#returning-a-view-versus-a-copy\n/Users/deneme/opt/anaconda3/lib/python3.7/site-packages/pandas/core/indexing.py:205: SettingWithCopyWarning: \nA value is trying to be set on a copy of a slice from a DataFrame\n\nSee the caveats in the documentation: http://pandas.pydata.org/pandas-docs/stable/user_guide/indexing.html#returning-a-view-versus-a-copy\n  self._setitem_with_indexer(indexer, value)\n"
     ]
    }
   ],
   "source": [
    "# filling the missing rows with previous row value\n",
    "dfPol, dfMet = fillingEmptyRows(dfPol, dfMet)"
   ]
  },
  {
   "cell_type": "code",
   "execution_count": 348,
   "metadata": {},
   "outputs": [],
   "source": [
    "# making preprocessing (fixing values, filling empty rows)\n",
    "dfPol = preprocessing(dfPol)"
   ]
  },
  {
   "cell_type": "code",
   "execution_count": 349,
   "metadata": {},
   "outputs": [],
   "source": [
    "# reset index values\n",
    "dfMet = dfMet.reset_index(drop=True)\n",
    "dfPol = dfPol.reset_index(drop=True)"
   ]
  },
  {
   "cell_type": "code",
   "execution_count": 350,
   "metadata": {},
   "outputs": [
    {
     "output_type": "display_data",
     "data": {
      "text/plain": "                    Tarih  PM10 ( µg/m3 )  SO2 ( µg/m3 )  CO ( µg/m3 )  \\\n0     2020-01-01 00:00:56       36.599998            5.2    986.700012   \n1     2020-01-01 01:00:56       35.599998            5.2    848.500000   \n2     2020-01-01 02:00:56       31.600000            5.9    827.200012   \n3     2020-01-01 03:00:56       27.299999            6.0    785.200012   \n4     2020-01-01 04:00:56       27.200001            5.9    872.000000   \n...                   ...             ...            ...           ...   \n10003 2021-02-20 19:00:56       53.799999            3.5    590.599976   \n10004 2021-02-20 20:00:56       57.400002            3.8    769.299988   \n10005 2021-02-20 21:00:56       55.299999            3.7   1327.599976   \n10006 2021-02-20 22:00:56       55.000000            3.8   1138.000000   \n10007 2021-02-20 23:00:56       52.599998            3.4    873.400024   \n\n       NO2 ( µg/m3 )  NOX ( µg/m3 )  O3 ( µg/m3 )  PM 2.5 ( µg/m3 )  \\\n0          33.599998     965.200012     23.500000         20.200001   \n1          46.400002     861.900024      0.400000         20.000000   \n2          50.799999     819.000000      1.600000         18.500000   \n3          74.000000     716.200012     23.700001         17.500000   \n4          57.700001     744.799988     18.000000         18.500000   \n...              ...            ...           ...               ...   \n10003      81.800003      95.099998      6.800000         11.600000   \n10004     112.099998     110.599998      5.000000         15.200000   \n10005     109.900002     110.699997      3.800000         16.000000   \n10006     131.399994     114.000000      3.800000         11.500000   \n10007     118.099998     140.000000      3.700000          8.700000   \n\n                 DATE_TIME     OBSERVATORY_NAME  AVERAGE_TEMPERATURE  \\\n0      2020-01-01 00:00:56  KADIKOY_GOZTEPE_MGM              2.89216   \n1      2020-01-01 01:00:56  KADIKOY_GOZTEPE_MGM              2.89216   \n2      2020-01-01 02:00:56  KADIKOY_GOZTEPE_MGM              2.89216   \n3      2020-01-01 03:00:56  KADIKOY_GOZTEPE_MGM              2.89216   \n4      2020-01-01 04:00:56  KADIKOY_GOZTEPE_MGM              2.89216   \n...                    ...                  ...                  ...   \n10003  2021-02-20 19:00:00  KADIKOY_GOZTEPE_MGM              3.17083   \n10004  2021-02-20 20:00:00  KADIKOY_GOZTEPE_MGM              2.99825   \n10005  2021-02-20 21:00:00  KADIKOY_GOZTEPE_MGM              3.00364   \n10006  2021-02-20 22:00:00  KADIKOY_GOZTEPE_MGM              3.01455   \n10007  2021-02-20 23:00:00  KADIKOY_GOZTEPE_MGM              2.89216   \n\n       AVERAGE_HUMIDITY  AVERAGE_WIND  AVERAGE_DIRECTIONOFWIND  \\\n0              66.98039       1.72549                 38.52941   \n1              66.98039       1.72549                 38.52941   \n2              66.98039       1.72549                 38.52941   \n3              66.98039       1.72549                 38.52941   \n4              66.98039       1.72549                 38.52941   \n...                 ...           ...                      ...   \n10003          60.35417       1.65417                 60.66667   \n10004          62.35088       1.71053                 68.17544   \n10005          65.07273       2.10182                 51.74545   \n10006          66.00000       1.71273                 49.61818   \n10007          66.98039       1.72549                 38.52941   \n\n       AVERAGE_PRECIPITATION  AVERAGE_ROAD_TEMPERATURE  \n0                        0.0                     -99.0  \n1                        0.0                     -99.0  \n2                        0.0                     -99.0  \n3                        0.0                     -99.0  \n4                        0.0                     -99.0  \n...                      ...                       ...  \n10003                    0.0                     -99.0  \n10004                    0.0                     -99.0  \n10005                    0.0                     -99.0  \n10006                    0.0                     -99.0  \n10007                    0.0                     -99.0  \n\n[10008 rows x 16 columns]",
      "text/html": "<div>\n<style scoped>\n    .dataframe tbody tr th:only-of-type {\n        vertical-align: middle;\n    }\n\n    .dataframe tbody tr th {\n        vertical-align: top;\n    }\n\n    .dataframe thead th {\n        text-align: right;\n    }\n</style>\n<table border=\"1\" class=\"dataframe\">\n  <thead>\n    <tr style=\"text-align: right;\">\n      <th></th>\n      <th>Tarih</th>\n      <th>PM10 ( µg/m3 )</th>\n      <th>SO2 ( µg/m3 )</th>\n      <th>CO ( µg/m3 )</th>\n      <th>NO2 ( µg/m3 )</th>\n      <th>NOX ( µg/m3 )</th>\n      <th>O3 ( µg/m3 )</th>\n      <th>PM 2.5 ( µg/m3 )</th>\n      <th>DATE_TIME</th>\n      <th>OBSERVATORY_NAME</th>\n      <th>AVERAGE_TEMPERATURE</th>\n      <th>AVERAGE_HUMIDITY</th>\n      <th>AVERAGE_WIND</th>\n      <th>AVERAGE_DIRECTIONOFWIND</th>\n      <th>AVERAGE_PRECIPITATION</th>\n      <th>AVERAGE_ROAD_TEMPERATURE</th>\n    </tr>\n  </thead>\n  <tbody>\n    <tr>\n      <td>0</td>\n      <td>2020-01-01 00:00:56</td>\n      <td>36.599998</td>\n      <td>5.2</td>\n      <td>986.700012</td>\n      <td>33.599998</td>\n      <td>965.200012</td>\n      <td>23.500000</td>\n      <td>20.200001</td>\n      <td>2020-01-01 00:00:56</td>\n      <td>KADIKOY_GOZTEPE_MGM</td>\n      <td>2.89216</td>\n      <td>66.98039</td>\n      <td>1.72549</td>\n      <td>38.52941</td>\n      <td>0.0</td>\n      <td>-99.0</td>\n    </tr>\n    <tr>\n      <td>1</td>\n      <td>2020-01-01 01:00:56</td>\n      <td>35.599998</td>\n      <td>5.2</td>\n      <td>848.500000</td>\n      <td>46.400002</td>\n      <td>861.900024</td>\n      <td>0.400000</td>\n      <td>20.000000</td>\n      <td>2020-01-01 01:00:56</td>\n      <td>KADIKOY_GOZTEPE_MGM</td>\n      <td>2.89216</td>\n      <td>66.98039</td>\n      <td>1.72549</td>\n      <td>38.52941</td>\n      <td>0.0</td>\n      <td>-99.0</td>\n    </tr>\n    <tr>\n      <td>2</td>\n      <td>2020-01-01 02:00:56</td>\n      <td>31.600000</td>\n      <td>5.9</td>\n      <td>827.200012</td>\n      <td>50.799999</td>\n      <td>819.000000</td>\n      <td>1.600000</td>\n      <td>18.500000</td>\n      <td>2020-01-01 02:00:56</td>\n      <td>KADIKOY_GOZTEPE_MGM</td>\n      <td>2.89216</td>\n      <td>66.98039</td>\n      <td>1.72549</td>\n      <td>38.52941</td>\n      <td>0.0</td>\n      <td>-99.0</td>\n    </tr>\n    <tr>\n      <td>3</td>\n      <td>2020-01-01 03:00:56</td>\n      <td>27.299999</td>\n      <td>6.0</td>\n      <td>785.200012</td>\n      <td>74.000000</td>\n      <td>716.200012</td>\n      <td>23.700001</td>\n      <td>17.500000</td>\n      <td>2020-01-01 03:00:56</td>\n      <td>KADIKOY_GOZTEPE_MGM</td>\n      <td>2.89216</td>\n      <td>66.98039</td>\n      <td>1.72549</td>\n      <td>38.52941</td>\n      <td>0.0</td>\n      <td>-99.0</td>\n    </tr>\n    <tr>\n      <td>4</td>\n      <td>2020-01-01 04:00:56</td>\n      <td>27.200001</td>\n      <td>5.9</td>\n      <td>872.000000</td>\n      <td>57.700001</td>\n      <td>744.799988</td>\n      <td>18.000000</td>\n      <td>18.500000</td>\n      <td>2020-01-01 04:00:56</td>\n      <td>KADIKOY_GOZTEPE_MGM</td>\n      <td>2.89216</td>\n      <td>66.98039</td>\n      <td>1.72549</td>\n      <td>38.52941</td>\n      <td>0.0</td>\n      <td>-99.0</td>\n    </tr>\n    <tr>\n      <td>...</td>\n      <td>...</td>\n      <td>...</td>\n      <td>...</td>\n      <td>...</td>\n      <td>...</td>\n      <td>...</td>\n      <td>...</td>\n      <td>...</td>\n      <td>...</td>\n      <td>...</td>\n      <td>...</td>\n      <td>...</td>\n      <td>...</td>\n      <td>...</td>\n      <td>...</td>\n      <td>...</td>\n    </tr>\n    <tr>\n      <td>10003</td>\n      <td>2021-02-20 19:00:56</td>\n      <td>53.799999</td>\n      <td>3.5</td>\n      <td>590.599976</td>\n      <td>81.800003</td>\n      <td>95.099998</td>\n      <td>6.800000</td>\n      <td>11.600000</td>\n      <td>2021-02-20 19:00:00</td>\n      <td>KADIKOY_GOZTEPE_MGM</td>\n      <td>3.17083</td>\n      <td>60.35417</td>\n      <td>1.65417</td>\n      <td>60.66667</td>\n      <td>0.0</td>\n      <td>-99.0</td>\n    </tr>\n    <tr>\n      <td>10004</td>\n      <td>2021-02-20 20:00:56</td>\n      <td>57.400002</td>\n      <td>3.8</td>\n      <td>769.299988</td>\n      <td>112.099998</td>\n      <td>110.599998</td>\n      <td>5.000000</td>\n      <td>15.200000</td>\n      <td>2021-02-20 20:00:00</td>\n      <td>KADIKOY_GOZTEPE_MGM</td>\n      <td>2.99825</td>\n      <td>62.35088</td>\n      <td>1.71053</td>\n      <td>68.17544</td>\n      <td>0.0</td>\n      <td>-99.0</td>\n    </tr>\n    <tr>\n      <td>10005</td>\n      <td>2021-02-20 21:00:56</td>\n      <td>55.299999</td>\n      <td>3.7</td>\n      <td>1327.599976</td>\n      <td>109.900002</td>\n      <td>110.699997</td>\n      <td>3.800000</td>\n      <td>16.000000</td>\n      <td>2021-02-20 21:00:00</td>\n      <td>KADIKOY_GOZTEPE_MGM</td>\n      <td>3.00364</td>\n      <td>65.07273</td>\n      <td>2.10182</td>\n      <td>51.74545</td>\n      <td>0.0</td>\n      <td>-99.0</td>\n    </tr>\n    <tr>\n      <td>10006</td>\n      <td>2021-02-20 22:00:56</td>\n      <td>55.000000</td>\n      <td>3.8</td>\n      <td>1138.000000</td>\n      <td>131.399994</td>\n      <td>114.000000</td>\n      <td>3.800000</td>\n      <td>11.500000</td>\n      <td>2021-02-20 22:00:00</td>\n      <td>KADIKOY_GOZTEPE_MGM</td>\n      <td>3.01455</td>\n      <td>66.00000</td>\n      <td>1.71273</td>\n      <td>49.61818</td>\n      <td>0.0</td>\n      <td>-99.0</td>\n    </tr>\n    <tr>\n      <td>10007</td>\n      <td>2021-02-20 23:00:56</td>\n      <td>52.599998</td>\n      <td>3.4</td>\n      <td>873.400024</td>\n      <td>118.099998</td>\n      <td>140.000000</td>\n      <td>3.700000</td>\n      <td>8.700000</td>\n      <td>2021-02-20 23:00:00</td>\n      <td>KADIKOY_GOZTEPE_MGM</td>\n      <td>2.89216</td>\n      <td>66.98039</td>\n      <td>1.72549</td>\n      <td>38.52941</td>\n      <td>0.0</td>\n      <td>-99.0</td>\n    </tr>\n  </tbody>\n</table>\n<p>10008 rows × 16 columns</p>\n</div>"
     },
     "metadata": {}
    }
   ],
   "source": [
    "# concat dataframes\n",
    "result = pd.concat([dfPol, dfMet], axis=1, join='inner')\n",
    "display(result)"
   ]
  },
  {
   "cell_type": "code",
   "execution_count": 351,
   "metadata": {},
   "outputs": [],
   "source": [
    "# create excel writer object\n",
    "path = '../datasets/training/'+polTownName+'_combined.xlsx'\n",
    "writer = pd.ExcelWriter(path)\n",
    "# write dataframe to excel\n",
    "result.to_excel(writer)\n",
    "# save the excel\n",
    "writer.save()"
   ]
  },
  {
   "cell_type": "code",
   "execution_count": null,
   "metadata": {},
   "outputs": [],
   "source": []
  },
  {
   "cell_type": "code",
   "execution_count": null,
   "metadata": {},
   "outputs": [],
   "source": []
  }
 ],
 "metadata": {
  "kernelspec": {
   "name": "python374jvsc74a57bd0fc9c1e1bd2f958361b34454cff99611c970e5cf7b1a4a61c9cc910440db53ba1",
   "display_name": "Python 3.7.4 64-bit ('base': conda)"
  },
  "language_info": {
   "codemirror_mode": {
    "name": "ipython",
    "version": 3
   },
   "file_extension": ".py",
   "mimetype": "text/x-python",
   "name": "python",
   "nbconvert_exporter": "python",
   "pygments_lexer": "ipython3",
   "version": "3.7.4"
  },
  "metadata": {
   "interpreter": {
    "hash": "aee8b7b246df8f9039afb4144a1f6fd8d2ca17a180786b69acc140d282b71a49"
   }
  }
 },
 "nbformat": 4,
 "nbformat_minor": 5
}