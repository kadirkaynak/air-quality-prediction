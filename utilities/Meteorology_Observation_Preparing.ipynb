{
 "cells": [
  {
   "source": [
    "# Data Dictionary\n",
    "#### DATE_TIME \n",
    "It is the field that contains date and time information. Data format YYYY-MM-DD HH24: MI: SS format. The date break is hourly.\n",
    "#### OBSERVATORY_NAME\n",
    "It indicates the type number of the sensor where the measurement is made.\n",
    "#### AVERAGE_TEMPERATURE\n",
    "Average temperature (& ordm; C) measured from the respective sensor at the given hour.\n",
    "#### AVERAGE_HUMIDITY\n",
    "Average wind speed (km / h) measured from the relevant sensor for the given hour.\n",
    "#### AVERAGE_WIND\n",
    "Average wind direction (km / h) measured from the respective sensor at the given hour.\n",
    "#### AVERAGE_DIRECTIONOFWIND\n",
    "Average precipitation amount (kg / m²) measured from the relevant sensor in the given hour.\n",
    "#### AVERAGE_PRECIPITATION\n",
    "Average amount of precipitation (kg / m²) measured from the relevant sensor in the given hour.\n",
    "#### AVERAGE_ROAD_TEMPERATURE\n",
    "Average road temperature (& ordm; C) measured from the respective sensor at the given hour."
   ],
   "cell_type": "markdown",
   "metadata": {}
  },
  {
   "cell_type": "code",
   "execution_count": 1,
   "id": "1b062717",
   "metadata": {},
   "outputs": [],
   "source": [
    "import os\n",
    "import pandas as pd\n",
    "import numpy as np\n",
    "\n",
    "import locale\n",
    "from locale import atof\n",
    "import xlsxwriter\n",
    "\n",
    "from PreProcessingUtil import preprocessing"
   ]
  },
  {
   "cell_type": "code",
   "execution_count": 2,
   "metadata": {},
   "outputs": [],
   "source": [
    "# Select rows in a DataFrame between two dates\n",
    "def selectedDateFrame(dfPol, dfMet):\n",
    "    dfPol = dfPol[(startDate<=dfPol['Tarih']) & (dfPol['Tarih']<endDate)]\n",
    "    dfMet = dfMet[(startDate<=dfMet['DATE_TIME']) & (dfMet['DATE_TIME']<endDate)]\n",
    "    return dfPol, dfMet\n",
    "\n",
    "# Function to fill missing rows\n",
    "def fillingEmptyRows(dfTrue,dfFalse):\n",
    "    for x in range (dfTrue.shape[0]):\n",
    "        if not (str(dfTrue['Tarih'].iloc[x])[:13] == str(dfFalse['DATE_TIME'].iloc[x])[:13]):\n",
    "            temp = dfFalse.iloc[x-1] # get previous value\n",
    "            temp['DATE_TIME'] = dfTrue['Tarih'].iloc[x] # set true date\n",
    "            dfFalse = Insert_row(x, dfFalse, temp) # insert missing value        \n",
    "    return dfTrue, dfFalse\n",
    "\n",
    "# Function to insert row in the dataframe\n",
    "def Insert_row(row_number, df, row_value):\n",
    "    # Starting value of upper half\n",
    "    start_upper = 0\n",
    "   \n",
    "    # End value of upper half\n",
    "    end_upper = row_number\n",
    "   \n",
    "    # Start value of lower half\n",
    "    start_lower = row_number\n",
    "   \n",
    "    # End value of lower half\n",
    "    end_lower = df.shape[0]\n",
    "   \n",
    "    # Create a list of upper_half index\n",
    "    upper_half = [*range(start_upper, end_upper, 1)]\n",
    "   \n",
    "    # Create a list of lower_half index\n",
    "    lower_half = [*range(start_lower, end_lower, 1)]\n",
    "   \n",
    "    # Increment the value of lower half by 1\n",
    "    lower_half = [x.__add__(1) for x in lower_half]\n",
    "   \n",
    "    # Combine the two lists\n",
    "    index_ = upper_half + lower_half\n",
    "   \n",
    "    # Update the index of the dataframe\n",
    "    df.index = index_\n",
    "   \n",
    "    # Insert a row at the end\n",
    "    df.loc[row_number] = row_value\n",
    "    \n",
    "    # Sort the index labels\n",
    "    df = df.sort_index()\n",
    "   \n",
    "    # return the dataframe\n",
    "    return df"
   ]
  },
  {
   "cell_type": "code",
   "execution_count": 3,
   "metadata": {},
   "outputs": [],
   "source": [
    "# creating dataframes per town\n",
    "df1  = pd.read_csv(os.path.join(\"../\", \"datasets\", \"meteorology_observation\", \"meteorology_observation_202001.csv\"))\n",
    "df2  = pd.read_csv(os.path.join(\"../\", \"datasets\", \"meteorology_observation\", \"meteorology_observation_202002.csv\"))\n",
    "df3  = pd.read_csv(os.path.join(\"../\", \"datasets\", \"meteorology_observation\", \"meteorology_observation_202003.csv\"))\n",
    "df4  = pd.read_csv(os.path.join(\"../\", \"datasets\", \"meteorology_observation\", \"meteorology_observation_202004.csv\"))\n",
    "df5  = pd.read_csv(os.path.join(\"../\", \"datasets\", \"meteorology_observation\", \"meteorology_observation_202005.csv\"))\n",
    "df6  = pd.read_csv(os.path.join(\"../\", \"datasets\", \"meteorology_observation\", \"meteorology_observation_202006.csv\"))\n",
    "df7  = pd.read_csv(os.path.join(\"../\", \"datasets\", \"meteorology_observation\", \"meteorology_observation_202007.csv\"))\n",
    "df8  = pd.read_csv(os.path.join(\"../\", \"datasets\", \"meteorology_observation\", \"meteorology_observation_202008.csv\"))\n",
    "df9  = pd.read_csv(os.path.join(\"../\", \"datasets\", \"meteorology_observation\", \"meteorology_observation_202009.csv\"))\n",
    "df10 = pd.read_csv(os.path.join(\"../\", \"datasets\", \"meteorology_observation\", \"meteorology_observation_202010.csv\"))\n",
    "df11 = pd.read_csv(os.path.join(\"../\", \"datasets\", \"meteorology_observation\", \"meteorology_observation_202011.csv\"))\n",
    "df12 = pd.read_csv(os.path.join(\"../\", \"datasets\", \"meteorology_observation\", \"meteorology_observation_202012.csv\"))\n",
    "df13 = pd.read_csv(os.path.join(\"../\", \"datasets\", \"meteorology_observation\", \"meteorology_observation_202101.csv\"))\n",
    "df14 = pd.read_csv(os.path.join(\"../\", \"datasets\", \"meteorology_observation\", \"meteorology_observation_202102.csv\"))"
   ]
  },
  {
   "cell_type": "code",
   "execution_count": 4,
   "metadata": {},
   "outputs": [],
   "source": [
    "# concat all dataframes\n",
    "bigdata = pd.concat([df1, df2, df3, df4, df5, df6, df7, df8, df9, df10, df11, df12, df13, df14], ignore_index=True, sort=False)"
   ]
  },
  {
   "cell_type": "code",
   "execution_count": 5,
   "metadata": {},
   "outputs": [
    {
     "output_type": "execute_result",
     "data": {
      "text/plain": [
       "array(['BEYKOZ_ANADOLU_FENERI', 'ISTOC_MAHMUTBEY',\n",
       "       'GUNGOREN_DAVUTPASA_MARMARA', 'KILYOS', 'SILE_DARLIK', 'PASAKOY',\n",
       "       'SANCAKTEPE_MGM', 'ESENLER', 'HACIOSMAN_SARIYER', 'SILE_ISAKOY',\n",
       "       'DURUSU', 'SUBASI', 'CAMLICA_TUNEL_K', 'BAYRAMOGLU_TUZLA',\n",
       "       'KAMILOBA', 'CAMLICA_LIBADIYE', 'SARIYER_ITU_MASLAK', 'CATALCA',\n",
       "       'BUYUKADA', 'SABIHAGOKCEN', 'EMINONU', 'OLIMPIYAT', 'G_O_PASA',\n",
       "       'BESIKTAS_YILDIZ', 'SILIVRI_ORMAN_SAHASI', 'USKUDAR_MGM', 'SILE',\n",
       "       'RIVA_TUNEL_G', 'BUYUKCEKMECE_MGM', 'KARTAL_AYDOS_DAGI',\n",
       "       'UMRANIYE', 'ODAYERI', 'ARNAVUTKOY_MGM', 'HADIMKOY', 'BEYKOZ',\n",
       "       'SUREYYAPASA', 'SAMANDIRA', 'SARIYER', 'AKOM', 'CATALCA_MGM',\n",
       "       'B_CEKMECE_SVIRAJLARI', 'BAHCESEHIR_I_KULE', 'SILIVRI_MGM',\n",
       "       'TERKOS', 'CAVUSBASI', 'CANTA', 'TERKOS_BARAJI', 'PENDIK',\n",
       "       'CEKMEKOY_OMERLI_MGM', 'SISLİ_MGM', 'KARTAL', 'CIFTALAN', 'SILE_2',\n",
       "       'KADIKOY_GOZTEPE_MGM', 'GOZTEPE', 'BEYLİKDUZU_MGM', 'YSS_KOPRUSU',\n",
       "       'BEYKOZ_MGM', 'AHL_BAKIRKOY', 'MASLAK_ITU', 'UMRANIYE_MGM',\n",
       "       'CAMLICA_TUNEL_G', 'EYUP_MGM', 'TUZLA_MGM', 'ATASEHIR',\n",
       "       'BASAKSEHIR', 'BEYLIKDUZU_H_DERE', 'PENDIK_OMERL_BARAJI',\n",
       "       'SELIMPASA_KAVAKLI', 'ZEKERIYAKOY', 'RIVA_TUNEL_K',\n",
       "       'SARIYER_YSS_KOPRU_MGM', 'ARNAVUTKOY', 'FLORYA', 'HALIC',\n",
       "       'KARTAL_U_MUMCU', 'ZINCIRLIKUYU', 'ALIBAHADIR', 'YENIKAPI',\n",
       "       'YENIKAPI_AWOS', 'OMERLI', 'USKUMRUKOY', 'KINALI'], dtype=object)"
      ]
     },
     "metadata": {},
     "execution_count": 5
    }
   ],
   "source": [
    "# distinct town names\n",
    "bigdata['OBSERVATORY_NAME'].unique()"
   ]
  },
  {
   "cell_type": "code",
   "execution_count": 6,
   "metadata": {},
   "outputs": [],
   "source": [
    "# selected columns\n",
    "reducedData = bigdata[[\"DATE_TIME\", \"OBSERVATORY_NAME\", \"AVERAGE_TEMPERATURE\", \"AVERAGE_HUMIDITY\", \"AVERAGE_WIND\", \"AVERAGE_DIRECTIONOFWIND\", \"AVERAGE_PRECIPITATION\", \"AVERAGE_ROAD_TEMPERATURE\"]]"
   ]
  },
  {
   "cell_type": "code",
   "execution_count": 7,
   "metadata": {},
   "outputs": [],
   "source": [
    "# town names different in meteorology and pollutant datasets, so find and give the convenient\n",
    "polTownName = 'kartal'\n",
    "metTownName = 'KARTAL'"
   ]
  },
  {
   "cell_type": "code",
   "execution_count": 8,
   "metadata": {},
   "outputs": [],
   "source": [
    "# all pollutant values according to a particular town (sorted by date time)\n",
    "polPath = polTownName + '.xlsx'\n",
    "dfPollutant = pd.read_excel(os.path.join(\"../\", \"datasets\", \"pollutants\", polPath),engine='openpyxl',parse_dates=True,thousands='.')"
   ]
  },
  {
   "cell_type": "code",
   "execution_count": 9,
   "metadata": {},
   "outputs": [],
   "source": [
    "# all meteorology values according to a particular town (sorted by date time)\n",
    "dfMeteorology = reducedData[reducedData['OBSERVATORY_NAME']==metTownName].sort_values('DATE_TIME')"
   ]
  },
  {
   "cell_type": "code",
   "execution_count": 10,
   "metadata": {},
   "outputs": [],
   "source": [
    "# determining dates\n",
    "startDate = '2020-01-01 00:00:00'\n",
    "endDate = '2021-02-21 00:00:00'"
   ]
  },
  {
   "cell_type": "code",
   "execution_count": 11,
   "metadata": {},
   "outputs": [],
   "source": [
    "# pooling selected rows according to determined date time\n",
    "dfPol, dfMet = selectedDateFrame(dfPollutant, dfMeteorology)"
   ]
  },
  {
   "cell_type": "code",
   "execution_count": 12,
   "metadata": {},
   "outputs": [
    {
     "output_type": "stream",
     "name": "stderr",
     "text": [
      "ipykernel_launcher:12: SettingWithCopyWarning: \nA value is trying to be set on a copy of a slice from a DataFrame\n\nSee the caveats in the documentation: http://pandas.pydata.org/pandas-docs/stable/user_guide/indexing.html#returning-a-view-versus-a-copy\n/Users/deneme/opt/anaconda3/lib/python3.7/site-packages/pandas/core/indexing.py:205: SettingWithCopyWarning: \nA value is trying to be set on a copy of a slice from a DataFrame\n\nSee the caveats in the documentation: http://pandas.pydata.org/pandas-docs/stable/user_guide/indexing.html#returning-a-view-versus-a-copy\n  self._setitem_with_indexer(indexer, value)\n"
     ]
    }
   ],
   "source": [
    "# filling the missing rows with previous row value\n",
    "dfPol, dfMet = fillingEmptyRows(dfPol, dfMet)"
   ]
  },
  {
   "cell_type": "code",
   "execution_count": 13,
   "metadata": {},
   "outputs": [],
   "source": [
    "# making preprocessing (fixing values, filling empty rows)\n",
    "dfPol = preprocessing(dfPol)"
   ]
  },
  {
   "cell_type": "code",
   "execution_count": 14,
   "metadata": {},
   "outputs": [
    {
     "output_type": "execute_result",
     "data": {
      "text/plain": [
       "                    Tarih  PM10 ( µg/m3 )  SO2 ( µg/m3 )  CO ( µg/m3 )  \\\n",
       "8759  2020-01-01 00:00:56       38.299999            4.9   1658.199951   \n",
       "8760  2020-01-01 01:00:56       36.599998            5.1   1709.500000   \n",
       "8761  2020-01-01 02:00:56       48.500000            4.6   1495.000000   \n",
       "8762  2020-01-01 03:00:56       43.000000            4.5   1298.599976   \n",
       "8763  2020-01-01 04:00:56       34.299999            3.6   1183.599976   \n",
       "...                   ...             ...            ...           ...   \n",
       "18762 2021-02-20 19:00:56       40.599998            3.0    729.299988   \n",
       "18763 2021-02-20 20:00:56       34.799999            2.9    928.599976   \n",
       "18764 2021-02-20 21:00:56       25.299999            3.3    812.200012   \n",
       "18765 2021-02-20 22:00:56       26.900000            3.5    616.099976   \n",
       "18766 2021-02-20 23:00:56       26.600000            3.4    490.600006   \n",
       "\n",
       "       NO2 ( µg/m3 )  NOX ( µg/m3 )  O3 ( µg/m3 )  PM 2.5 ( µg/m3 )  \n",
       "8759       53.700001     135.199997     61.299999         24.000000  \n",
       "8760       62.000000     239.199997    171.199997         31.000000  \n",
       "8761       48.900002      84.800003     70.800003         24.400000  \n",
       "8762       31.400000      39.599998    137.000000         32.900002  \n",
       "8763       33.200001      41.099998    145.199997         23.000000  \n",
       "...              ...            ...           ...               ...  \n",
       "18762      71.400002      20.000000     20.900000         12.300000  \n",
       "18763      91.599998      19.600000     10.200000         21.600000  \n",
       "18764      98.599998      19.400000     18.700001        282.299988  \n",
       "18765     102.099998      25.900000     44.799999        187.199997  \n",
       "18766      65.699997      23.600000     51.000000        109.300003  \n",
       "\n",
       "[10008 rows x 8 columns]"
      ],
      "text/html": "<div>\n<style scoped>\n    .dataframe tbody tr th:only-of-type {\n        vertical-align: middle;\n    }\n\n    .dataframe tbody tr th {\n        vertical-align: top;\n    }\n\n    .dataframe thead th {\n        text-align: right;\n    }\n</style>\n<table border=\"1\" class=\"dataframe\">\n  <thead>\n    <tr style=\"text-align: right;\">\n      <th></th>\n      <th>Tarih</th>\n      <th>PM10 ( µg/m3 )</th>\n      <th>SO2 ( µg/m3 )</th>\n      <th>CO ( µg/m3 )</th>\n      <th>NO2 ( µg/m3 )</th>\n      <th>NOX ( µg/m3 )</th>\n      <th>O3 ( µg/m3 )</th>\n      <th>PM 2.5 ( µg/m3 )</th>\n    </tr>\n  </thead>\n  <tbody>\n    <tr>\n      <td>8759</td>\n      <td>2020-01-01 00:00:56</td>\n      <td>38.299999</td>\n      <td>4.9</td>\n      <td>1658.199951</td>\n      <td>53.700001</td>\n      <td>135.199997</td>\n      <td>61.299999</td>\n      <td>24.000000</td>\n    </tr>\n    <tr>\n      <td>8760</td>\n      <td>2020-01-01 01:00:56</td>\n      <td>36.599998</td>\n      <td>5.1</td>\n      <td>1709.500000</td>\n      <td>62.000000</td>\n      <td>239.199997</td>\n      <td>171.199997</td>\n      <td>31.000000</td>\n    </tr>\n    <tr>\n      <td>8761</td>\n      <td>2020-01-01 02:00:56</td>\n      <td>48.500000</td>\n      <td>4.6</td>\n      <td>1495.000000</td>\n      <td>48.900002</td>\n      <td>84.800003</td>\n      <td>70.800003</td>\n      <td>24.400000</td>\n    </tr>\n    <tr>\n      <td>8762</td>\n      <td>2020-01-01 03:00:56</td>\n      <td>43.000000</td>\n      <td>4.5</td>\n      <td>1298.599976</td>\n      <td>31.400000</td>\n      <td>39.599998</td>\n      <td>137.000000</td>\n      <td>32.900002</td>\n    </tr>\n    <tr>\n      <td>8763</td>\n      <td>2020-01-01 04:00:56</td>\n      <td>34.299999</td>\n      <td>3.6</td>\n      <td>1183.599976</td>\n      <td>33.200001</td>\n      <td>41.099998</td>\n      <td>145.199997</td>\n      <td>23.000000</td>\n    </tr>\n    <tr>\n      <td>...</td>\n      <td>...</td>\n      <td>...</td>\n      <td>...</td>\n      <td>...</td>\n      <td>...</td>\n      <td>...</td>\n      <td>...</td>\n      <td>...</td>\n    </tr>\n    <tr>\n      <td>18762</td>\n      <td>2021-02-20 19:00:56</td>\n      <td>40.599998</td>\n      <td>3.0</td>\n      <td>729.299988</td>\n      <td>71.400002</td>\n      <td>20.000000</td>\n      <td>20.900000</td>\n      <td>12.300000</td>\n    </tr>\n    <tr>\n      <td>18763</td>\n      <td>2021-02-20 20:00:56</td>\n      <td>34.799999</td>\n      <td>2.9</td>\n      <td>928.599976</td>\n      <td>91.599998</td>\n      <td>19.600000</td>\n      <td>10.200000</td>\n      <td>21.600000</td>\n    </tr>\n    <tr>\n      <td>18764</td>\n      <td>2021-02-20 21:00:56</td>\n      <td>25.299999</td>\n      <td>3.3</td>\n      <td>812.200012</td>\n      <td>98.599998</td>\n      <td>19.400000</td>\n      <td>18.700001</td>\n      <td>282.299988</td>\n    </tr>\n    <tr>\n      <td>18765</td>\n      <td>2021-02-20 22:00:56</td>\n      <td>26.900000</td>\n      <td>3.5</td>\n      <td>616.099976</td>\n      <td>102.099998</td>\n      <td>25.900000</td>\n      <td>44.799999</td>\n      <td>187.199997</td>\n    </tr>\n    <tr>\n      <td>18766</td>\n      <td>2021-02-20 23:00:56</td>\n      <td>26.600000</td>\n      <td>3.4</td>\n      <td>490.600006</td>\n      <td>65.699997</td>\n      <td>23.600000</td>\n      <td>51.000000</td>\n      <td>109.300003</td>\n    </tr>\n  </tbody>\n</table>\n<p>10008 rows × 8 columns</p>\n</div>"
     },
     "metadata": {},
     "execution_count": 14
    }
   ],
   "source": [
    "dfPol"
   ]
  },
  {
   "cell_type": "code",
   "execution_count": 15,
   "metadata": {},
   "outputs": [],
   "source": [
    "# reset index values\n",
    "dfMet = dfMet.reset_index(drop=True)\n",
    "dfPol = dfPol.reset_index(drop=True)"
   ]
  },
  {
   "cell_type": "code",
   "execution_count": 16,
   "metadata": {},
   "outputs": [
    {
     "output_type": "display_data",
     "data": {
      "text/plain": "                    Tarih  PM10 ( µg/m3 )  SO2 ( µg/m3 )  CO ( µg/m3 )  \\\n0     2020-01-01 00:00:56       38.299999            4.9   1658.199951   \n1     2020-01-01 01:00:56       36.599998            5.1   1709.500000   \n2     2020-01-01 02:00:56       48.500000            4.6   1495.000000   \n3     2020-01-01 03:00:56       43.000000            4.5   1298.599976   \n4     2020-01-01 04:00:56       34.299999            3.6   1183.599976   \n...                   ...             ...            ...           ...   \n10003 2021-02-20 19:00:56       40.599998            3.0    729.299988   \n10004 2021-02-20 20:00:56       34.799999            2.9    928.599976   \n10005 2021-02-20 21:00:56       25.299999            3.3    812.200012   \n10006 2021-02-20 22:00:56       26.900000            3.5    616.099976   \n10007 2021-02-20 23:00:56       26.600000            3.4    490.600006   \n\n       NO2 ( µg/m3 )  NOX ( µg/m3 )  O3 ( µg/m3 )  PM 2.5 ( µg/m3 )  \\\n0          53.700001     135.199997     61.299999         24.000000   \n1          62.000000     239.199997    171.199997         31.000000   \n2          48.900002      84.800003     70.800003         24.400000   \n3          31.400000      39.599998    137.000000         32.900002   \n4          33.200001      41.099998    145.199997         23.000000   \n...              ...            ...           ...               ...   \n10003      71.400002      20.000000     20.900000         12.300000   \n10004      91.599998      19.600000     10.200000         21.600000   \n10005      98.599998      19.400000     18.700001        282.299988   \n10006     102.099998      25.900000     44.799999        187.199997   \n10007      65.699997      23.600000     51.000000        109.300003   \n\n                 DATE_TIME OBSERVATORY_NAME  AVERAGE_TEMPERATURE  \\\n0      2020-01-01 00:00:00           KARTAL              7.91071   \n1      2020-01-01 01:00:00           KARTAL              7.65000   \n2      2020-01-01 02:00:00           KARTAL              7.22295   \n3      2020-01-01 03:00:00           KARTAL              6.66607   \n4      2020-01-01 04:00:00           KARTAL              6.52500   \n...                    ...              ...                  ...   \n10003  2021-02-20 19:00:00           KARTAL              2.89167   \n10004  2021-02-20 20:00:00           KARTAL              2.75714   \n10005  2021-02-20 21:00:00           KARTAL              2.82321   \n10006  2021-02-20 22:00:00           KARTAL              2.82407   \n10007  2021-02-20 23:00:00           KARTAL              2.84314   \n\n       AVERAGE_HUMIDITY  AVERAGE_WIND  AVERAGE_DIRECTIONOFWIND  \\\n0              72.82143       2.12679                302.69643   \n1              74.05172       2.24138                307.05172   \n2              70.57377       2.38033                320.54098   \n3              58.62500       1.23571                313.35714   \n4              60.05000       1.17167                277.20000   \n...                 ...           ...                      ...   \n10003          57.66667       1.37708                118.62500   \n10004          58.30357       1.49464                 94.91071   \n10005          60.17857       2.14643                 86.00000   \n10006          61.22222       1.99074                 87.48148   \n10007          61.09804       1.49020                 85.80392   \n\n       AVERAGE_PRECIPITATION  AVERAGE_ROAD_TEMPERATURE  \n0                      -99.0                     -99.0  \n1                      -99.0                     -99.0  \n2                      -99.0                     -99.0  \n3                      -99.0                     -99.0  \n4                      -99.0                     -99.0  \n...                      ...                       ...  \n10003                  -99.0                     -99.0  \n10004                  -99.0                     -99.0  \n10005                  -99.0                     -99.0  \n10006                  -99.0                     -99.0  \n10007                  -99.0                     -99.0  \n\n[10008 rows x 16 columns]",
      "text/html": "<div>\n<style scoped>\n    .dataframe tbody tr th:only-of-type {\n        vertical-align: middle;\n    }\n\n    .dataframe tbody tr th {\n        vertical-align: top;\n    }\n\n    .dataframe thead th {\n        text-align: right;\n    }\n</style>\n<table border=\"1\" class=\"dataframe\">\n  <thead>\n    <tr style=\"text-align: right;\">\n      <th></th>\n      <th>Tarih</th>\n      <th>PM10 ( µg/m3 )</th>\n      <th>SO2 ( µg/m3 )</th>\n      <th>CO ( µg/m3 )</th>\n      <th>NO2 ( µg/m3 )</th>\n      <th>NOX ( µg/m3 )</th>\n      <th>O3 ( µg/m3 )</th>\n      <th>PM 2.5 ( µg/m3 )</th>\n      <th>DATE_TIME</th>\n      <th>OBSERVATORY_NAME</th>\n      <th>AVERAGE_TEMPERATURE</th>\n      <th>AVERAGE_HUMIDITY</th>\n      <th>AVERAGE_WIND</th>\n      <th>AVERAGE_DIRECTIONOFWIND</th>\n      <th>AVERAGE_PRECIPITATION</th>\n      <th>AVERAGE_ROAD_TEMPERATURE</th>\n    </tr>\n  </thead>\n  <tbody>\n    <tr>\n      <td>0</td>\n      <td>2020-01-01 00:00:56</td>\n      <td>38.299999</td>\n      <td>4.9</td>\n      <td>1658.199951</td>\n      <td>53.700001</td>\n      <td>135.199997</td>\n      <td>61.299999</td>\n      <td>24.000000</td>\n      <td>2020-01-01 00:00:00</td>\n      <td>KARTAL</td>\n      <td>7.91071</td>\n      <td>72.82143</td>\n      <td>2.12679</td>\n      <td>302.69643</td>\n      <td>-99.0</td>\n      <td>-99.0</td>\n    </tr>\n    <tr>\n      <td>1</td>\n      <td>2020-01-01 01:00:56</td>\n      <td>36.599998</td>\n      <td>5.1</td>\n      <td>1709.500000</td>\n      <td>62.000000</td>\n      <td>239.199997</td>\n      <td>171.199997</td>\n      <td>31.000000</td>\n      <td>2020-01-01 01:00:00</td>\n      <td>KARTAL</td>\n      <td>7.65000</td>\n      <td>74.05172</td>\n      <td>2.24138</td>\n      <td>307.05172</td>\n      <td>-99.0</td>\n      <td>-99.0</td>\n    </tr>\n    <tr>\n      <td>2</td>\n      <td>2020-01-01 02:00:56</td>\n      <td>48.500000</td>\n      <td>4.6</td>\n      <td>1495.000000</td>\n      <td>48.900002</td>\n      <td>84.800003</td>\n      <td>70.800003</td>\n      <td>24.400000</td>\n      <td>2020-01-01 02:00:00</td>\n      <td>KARTAL</td>\n      <td>7.22295</td>\n      <td>70.57377</td>\n      <td>2.38033</td>\n      <td>320.54098</td>\n      <td>-99.0</td>\n      <td>-99.0</td>\n    </tr>\n    <tr>\n      <td>3</td>\n      <td>2020-01-01 03:00:56</td>\n      <td>43.000000</td>\n      <td>4.5</td>\n      <td>1298.599976</td>\n      <td>31.400000</td>\n      <td>39.599998</td>\n      <td>137.000000</td>\n      <td>32.900002</td>\n      <td>2020-01-01 03:00:00</td>\n      <td>KARTAL</td>\n      <td>6.66607</td>\n      <td>58.62500</td>\n      <td>1.23571</td>\n      <td>313.35714</td>\n      <td>-99.0</td>\n      <td>-99.0</td>\n    </tr>\n    <tr>\n      <td>4</td>\n      <td>2020-01-01 04:00:56</td>\n      <td>34.299999</td>\n      <td>3.6</td>\n      <td>1183.599976</td>\n      <td>33.200001</td>\n      <td>41.099998</td>\n      <td>145.199997</td>\n      <td>23.000000</td>\n      <td>2020-01-01 04:00:00</td>\n      <td>KARTAL</td>\n      <td>6.52500</td>\n      <td>60.05000</td>\n      <td>1.17167</td>\n      <td>277.20000</td>\n      <td>-99.0</td>\n      <td>-99.0</td>\n    </tr>\n    <tr>\n      <td>...</td>\n      <td>...</td>\n      <td>...</td>\n      <td>...</td>\n      <td>...</td>\n      <td>...</td>\n      <td>...</td>\n      <td>...</td>\n      <td>...</td>\n      <td>...</td>\n      <td>...</td>\n      <td>...</td>\n      <td>...</td>\n      <td>...</td>\n      <td>...</td>\n      <td>...</td>\n      <td>...</td>\n    </tr>\n    <tr>\n      <td>10003</td>\n      <td>2021-02-20 19:00:56</td>\n      <td>40.599998</td>\n      <td>3.0</td>\n      <td>729.299988</td>\n      <td>71.400002</td>\n      <td>20.000000</td>\n      <td>20.900000</td>\n      <td>12.300000</td>\n      <td>2021-02-20 19:00:00</td>\n      <td>KARTAL</td>\n      <td>2.89167</td>\n      <td>57.66667</td>\n      <td>1.37708</td>\n      <td>118.62500</td>\n      <td>-99.0</td>\n      <td>-99.0</td>\n    </tr>\n    <tr>\n      <td>10004</td>\n      <td>2021-02-20 20:00:56</td>\n      <td>34.799999</td>\n      <td>2.9</td>\n      <td>928.599976</td>\n      <td>91.599998</td>\n      <td>19.600000</td>\n      <td>10.200000</td>\n      <td>21.600000</td>\n      <td>2021-02-20 20:00:00</td>\n      <td>KARTAL</td>\n      <td>2.75714</td>\n      <td>58.30357</td>\n      <td>1.49464</td>\n      <td>94.91071</td>\n      <td>-99.0</td>\n      <td>-99.0</td>\n    </tr>\n    <tr>\n      <td>10005</td>\n      <td>2021-02-20 21:00:56</td>\n      <td>25.299999</td>\n      <td>3.3</td>\n      <td>812.200012</td>\n      <td>98.599998</td>\n      <td>19.400000</td>\n      <td>18.700001</td>\n      <td>282.299988</td>\n      <td>2021-02-20 21:00:00</td>\n      <td>KARTAL</td>\n      <td>2.82321</td>\n      <td>60.17857</td>\n      <td>2.14643</td>\n      <td>86.00000</td>\n      <td>-99.0</td>\n      <td>-99.0</td>\n    </tr>\n    <tr>\n      <td>10006</td>\n      <td>2021-02-20 22:00:56</td>\n      <td>26.900000</td>\n      <td>3.5</td>\n      <td>616.099976</td>\n      <td>102.099998</td>\n      <td>25.900000</td>\n      <td>44.799999</td>\n      <td>187.199997</td>\n      <td>2021-02-20 22:00:00</td>\n      <td>KARTAL</td>\n      <td>2.82407</td>\n      <td>61.22222</td>\n      <td>1.99074</td>\n      <td>87.48148</td>\n      <td>-99.0</td>\n      <td>-99.0</td>\n    </tr>\n    <tr>\n      <td>10007</td>\n      <td>2021-02-20 23:00:56</td>\n      <td>26.600000</td>\n      <td>3.4</td>\n      <td>490.600006</td>\n      <td>65.699997</td>\n      <td>23.600000</td>\n      <td>51.000000</td>\n      <td>109.300003</td>\n      <td>2021-02-20 23:00:00</td>\n      <td>KARTAL</td>\n      <td>2.84314</td>\n      <td>61.09804</td>\n      <td>1.49020</td>\n      <td>85.80392</td>\n      <td>-99.0</td>\n      <td>-99.0</td>\n    </tr>\n  </tbody>\n</table>\n<p>10008 rows × 16 columns</p>\n</div>"
     },
     "metadata": {}
    }
   ],
   "source": [
    "# concat dataframes\n",
    "result = pd.concat([dfPol, dfMet], axis=1, join='inner')\n",
    "display(result)"
   ]
  },
  {
   "cell_type": "code",
   "execution_count": 17,
   "metadata": {},
   "outputs": [],
   "source": [
    "# create excel writer object\n",
    "path = '../datasets/training/'+polTownName+'_combined.xlsx'\n",
    "writer = pd.ExcelWriter(path)\n",
    "# write dataframe to excel\n",
    "result.to_excel(writer)\n",
    "# save the excel\n",
    "writer.save()"
   ]
  },
  {
   "cell_type": "code",
   "execution_count": null,
   "metadata": {},
   "outputs": [],
   "source": []
  },
  {
   "cell_type": "code",
   "execution_count": null,
   "metadata": {},
   "outputs": [],
   "source": []
  }
 ],
 "metadata": {
  "kernelspec": {
   "name": "python374jvsc74a57bd0fc9c1e1bd2f958361b34454cff99611c970e5cf7b1a4a61c9cc910440db53ba1",
   "display_name": "Python 3.7.4 64-bit ('base': conda)"
  },
  "language_info": {
   "codemirror_mode": {
    "name": "ipython",
    "version": 3
   },
   "file_extension": ".py",
   "mimetype": "text/x-python",
   "name": "python",
   "nbconvert_exporter": "python",
   "pygments_lexer": "ipython3",
   "version": "3.7.4"
  },
  "metadata": {
   "interpreter": {
    "hash": "aee8b7b246df8f9039afb4144a1f6fd8d2ca17a180786b69acc140d282b71a49"
   }
  }
 },
 "nbformat": 4,
 "nbformat_minor": 5
}