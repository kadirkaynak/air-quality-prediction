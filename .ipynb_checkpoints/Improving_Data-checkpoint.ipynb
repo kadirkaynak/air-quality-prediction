{
 "cells": [
  {
   "cell_type": "code",
   "execution_count": 76,
   "id": "47dab16a",
   "metadata": {},
   "outputs": [],
   "source": [
    "import os\n",
    "import pandas as pd\n",
    "import numpy as np\n",
    "\n",
    "import locale\n",
    "from locale import atof"
   ]
  },
  {
   "cell_type": "code",
   "execution_count": 77,
   "id": "bb0fb63d",
   "metadata": {},
   "outputs": [
    {
     "name": "stdout",
     "output_type": "stream",
     "text": [
      "                    Tarih PM10 ( µg/m3 ) SO2 ( µg/m3 ) CO ( µg/m3 )  \\\n",
      "0     2012-01-01 01:00:56              -             -            -   \n",
      "1     2012-01-01 02:00:56              -             -            -   \n",
      "2     2012-01-01 03:00:56              -             -            -   \n",
      "3     2012-01-01 04:00:56              -             -            -   \n",
      "4     2012-01-01 05:00:56              -             -            -   \n",
      "...                   ...            ...           ...          ...   \n",
      "81690 2021-04-26 19:00:56          11,10          1,00       296,70   \n",
      "81691 2021-04-26 20:00:56          17,40          0,80       254,10   \n",
      "81692 2021-04-26 21:00:56          30,00          0,70       180,00   \n",
      "81693 2021-04-26 22:00:56          18,60          1,00       399,00   \n",
      "81694 2021-04-26 23:00:56              -          1,10       446,60   \n",
      "\n",
      "      NO2 ( µg/m3 ) NOX ( µg/m3 ) O3 ( µg/m3 ) PM 2.5 ( µg/m3 )  \n",
      "0                 -             -            -                -  \n",
      "1                 -             -            -                -  \n",
      "2                 -             -            -                -  \n",
      "3                 -             -            -                -  \n",
      "4                 -             -            -                -  \n",
      "...             ...           ...          ...              ...  \n",
      "81690         15,90             -        31,60                -  \n",
      "81691         15,80             -        34,40                -  \n",
      "81692         18,90             -        31,70                -  \n",
      "81693         23,30             -        17,10                -  \n",
      "81694         22,10             -        22,20                -  \n",
      "\n",
      "[81695 rows x 8 columns]\n"
     ]
    }
   ],
   "source": [
    "df = pd.read_excel(\n",
    "     os.path.join(\"datasets\", \"besiktas.xlsx\"),\n",
    "     engine='openpyxl',\n",
    "     parse_dates=True,\n",
    "     thousands='.'\n",
    ")\n",
    "print (df)"
   ]
  },
  {
   "cell_type": "code",
   "execution_count": 78,
   "id": "791e07bb",
   "metadata": {},
   "outputs": [],
   "source": [
    "# Replace '-' string with NaN\n",
    "df = df.replace ('-', '-1')\n",
    "\n",
    "# Also fixing ',' delimeter with '.' for float conversion\n",
    "# . is for thousands , for the last delimeter\n",
    "df['PM10 ( µg/m3 )'] = df['PM10 ( µg/m3 )'].astype(str).str.replace('.','')\n",
    "df['PM10 ( µg/m3 )'] = df['PM10 ( µg/m3 )'].astype(str).str.replace(',','.')\n",
    "\n",
    "# Casting str to float\n",
    "df['PM10 ( µg/m3 )'] = pd.to_numeric(df['PM10 ( µg/m3 )'], downcast=\"float\")"
   ]
  },
  {
   "cell_type": "code",
   "execution_count": 79,
   "id": "38d772f1",
   "metadata": {},
   "outputs": [
    {
     "data": {
      "text/plain": [
       "Tarih                   0\n",
       "PM10 ( µg/m3 )          0\n",
       "SO2 ( µg/m3 )       61745\n",
       "CO ( µg/m3 )        62154\n",
       "NO2 ( µg/m3 )       63773\n",
       "NOX ( µg/m3 )       67718\n",
       "O3 ( µg/m3 )        62743\n",
       "PM 2.5 ( µg/m3 )    67638\n",
       "dtype: int64"
      ]
     },
     "execution_count": 79,
     "metadata": {},
     "output_type": "execute_result"
    }
   ],
   "source": [
    "# Counting number of -1 in the column\n",
    "df[df == '-1'].count () "
   ]
  },
  {
   "cell_type": "code",
   "execution_count": 80,
   "id": "119a4017",
   "metadata": {},
   "outputs": [],
   "source": [
    "# Filling empty rows\n",
    "# https://towardsdatascience.com/7-ways-to-handle-missing-values-in-machine-learning-1a6326adf79e\n",
    "# 1- We cant just delete them because we need consistent timestamps\n",
    "# 2- If too many empty rows exists we should discard them\n",
    "# 3- Replacing missing data with mean/median\n",
    "# 3.1- This does not cover the covariance between features\n",
    "df['PM10 ( µg/m3 )'] = df['PM10 ( µg/m3 )'].replace (-1.0, df[df != -1]['PM10 ( µg/m3 )'].median ())"
   ]
  },
  {
   "cell_type": "code",
   "execution_count": 81,
   "id": "c9e06815",
   "metadata": {},
   "outputs": [
    {
     "data": {
      "text/plain": [
       "0        26.1\n",
       "1        26.1\n",
       "2        26.1\n",
       "3        26.1\n",
       "4        26.1\n",
       "         ... \n",
       "81690    11.1\n",
       "81691    17.4\n",
       "81692    30.0\n",
       "81693    18.6\n",
       "81694    26.1\n",
       "Name: PM10 ( µg/m3 ), Length: 81695, dtype: float32"
      ]
     },
     "execution_count": 81,
     "metadata": {},
     "output_type": "execute_result"
    }
   ],
   "source": [
    "df['PM10 ( µg/m3 )']"
   ]
  }
 ],
 "metadata": {
  "kernelspec": {
   "display_name": "Python 3",
   "language": "python",
   "name": "python3"
  },
  "language_info": {
   "codemirror_mode": {
    "name": "ipython",
    "version": 3
   },
   "file_extension": ".py",
   "mimetype": "text/x-python",
   "name": "python",
   "nbconvert_exporter": "python",
   "pygments_lexer": "ipython3",
   "version": "3.7.0"
  }
 },
 "nbformat": 4,
 "nbformat_minor": 5
}
