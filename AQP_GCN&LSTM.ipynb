{
 "cells": [
  {
   "cell_type": "markdown",
   "metadata": {},
   "source": [
    "# BLG556E - Digital Solution for Smart Cities\n",
    "\n",
    "Halit Uyanık - 504202506<br>\n",
    "Kadir Şinas Kaynak - 504191525\n"
   ]
  },
  {
   "cell_type": "code",
   "execution_count": 1,
   "metadata": {},
   "outputs": [],
   "source": [
    "# Any number of GCN and LSTM layers can be added\n",
    "# Dropout and dense layers decrease the over-fitting problem\n",
    "# TODO: What can we change?\n",
    "# Method here is used for univariate (single-value) scalars\n",
    "# https://stellargraph.readthedocs.io/en/stable/demos/time-series/gcn-lstm-time-series.html"
   ]
  },
  {
   "cell_type": "code",
   "execution_count": 2,
   "metadata": {},
   "outputs": [],
   "source": [
    "# All necessary imports here\n",
    "import os\n",
    "import sys\n",
    "import urllib.request\n",
    "\n",
    "import pandas as pd\n",
    "import numpy as np\n",
    "import matplotlib.pyplot as plt\n",
    "import matplotlib.lines as mlines\n",
    "\n",
    "import tensorflow as tf\n",
    "from tensorflow import keras\n",
    "from tensorflow.keras import Sequential, Model\n",
    "from tensorflow.keras.layers import LSTM, Dense, Dropout, Input\n",
    "\n",
    "import stellargraph as sg\n",
    "\n",
    "from models.GCNLSTMTrainer import GCN_LSTM\n",
    "\n",
    "import time"
   ]
  },
  {
   "cell_type": "markdown",
   "metadata": {},
   "source": [
    "## Preparing Datasets"
   ]
  },
  {
   "cell_type": "code",
   "execution_count": 3,
   "metadata": {
    "scrolled": true
   },
   "outputs": [
    {
     "name": "stdout",
     "output_type": "stream",
     "text": [
      "                 0          1          2          3          4          5      \\\n",
      "Aksaray      42.200001  41.799999  44.200001  41.700001  49.700001  48.400002   \n",
      "Besiktas     37.599998  42.000000  39.000000  37.599998  48.500000  47.200001   \n",
      "Buyukada      9.600000  12.000000  12.800000  13.800000  16.400000  19.400000   \n",
      "Catladıkapı  24.100000  27.299999  40.200001  41.599998  40.900002  42.700001   \n",
      "Esenler      28.100000  34.200001  33.099998  33.799999  36.000000  42.200001   \n",
      "Kadıkoy      21.400000  24.200001  18.799999  18.000000  19.500000  23.299999   \n",
      "Kandilli      6.800000   5.300000  11.500000  13.400000  18.000000  21.000000   \n",
      "Kartal       46.599998  39.700001  49.299999  47.099998  48.799999  60.900002   \n",
      "Mecidiyekoy  73.320000  76.489998  77.769997  82.419998  82.059998  85.529999   \n",
      "Umraniye     34.200001  38.200001  45.400002  43.599998  47.000000  47.000000   \n",
      "\n",
      "                 6          7          8          9      ...      19990  \\\n",
      "Aksaray      51.400002  45.599998  50.200001  58.799999  ...  33.900002   \n",
      "Besiktas     62.700001  62.099998  59.400002  44.900002  ...  21.000000   \n",
      "Buyukada     17.900000  16.299999  13.200000   9.500000  ...   6.700000   \n",
      "Catladıkapı  38.099998  35.500000  26.299999  21.600000  ...  11.000000   \n",
      "Esenler      47.000000  42.200001  46.799999  47.400002  ...  24.799999   \n",
      "Kadıkoy      29.299999  33.099998  37.299999  29.799999  ...  20.299999   \n",
      "Kandilli     31.400000  19.000000  21.000000  12.800000  ...  15.600000   \n",
      "Kartal       64.500000  70.599998  76.900002  69.900002  ...  18.500000   \n",
      "Mecidiyekoy  89.029999  90.180000  92.879997  79.169998  ...  46.389999   \n",
      "Umraniye     45.799999  47.299999  42.799999  44.200001  ...  21.100000   \n",
      "\n",
      "                 19991      19992      19993      19994      19995      19996  \\\n",
      "Aksaray      30.299999  35.400002  38.200001  30.000000  23.600000  25.900000   \n",
      "Besiktas     21.200001  12.800000   9.400000  15.400000  11.100000  17.400000   \n",
      "Buyukada      8.400000  15.900000  22.700001  20.299999  13.000000   8.700000   \n",
      "Catladıkapı   9.400000   8.200000   8.600000  10.300000  13.800000  17.200001   \n",
      "Esenler      25.200001  19.799999  17.799999  12.600000  12.200000  18.200001   \n",
      "Kadıkoy      15.900000  13.200000  12.500000  14.600000  14.400000  17.600000   \n",
      "Kandilli     12.600000   8.600000   6.300000   4.200000   3.800000   1.900000   \n",
      "Kartal       18.100000  23.000000  41.400002  34.400002  31.100000  26.600000   \n",
      "Mecidiyekoy  47.450001  48.290001  42.040001  51.669998  47.720001  41.580002   \n",
      "Umraniye     12.000000  22.600000  14.400000  19.299999  28.799999  21.400000   \n",
      "\n",
      "                 19997      19998      19999  \n",
      "Aksaray      27.600000  19.700001  27.100000  \n",
      "Besiktas     30.000000  18.600000  13.200000  \n",
      "Buyukada     13.300000  30.600000  26.200001  \n",
      "Catladıkapı  14.600000  14.800000  16.400000  \n",
      "Esenler      18.299999  22.000000  31.299999  \n",
      "Kadıkoy      24.000000  30.799999  41.200001  \n",
      "Kandilli      1.000000   2.700000   1.100000  \n",
      "Kartal       24.299999  24.200001  63.200001  \n",
      "Mecidiyekoy  51.840000  53.709999  56.070000  \n",
      "Umraniye     29.400000  23.200001  28.799999  \n",
      "\n",
      "[10 rows x 20000 columns]\n",
      "No. of sensors: 10 \n",
      "No of timesteps: 20000\n"
     ]
    }
   ],
   "source": [
    "#read pollutant values\n",
    "# A N by T feature matrix, which describes the (f_1, .., f_T) speed records over T timesteps for the N sensors.\n",
    "pollutantPath = \"datasets/training/PM10.xlsx\"\n",
    "dfPollutant = pd.read_excel(\n",
    "     pollutantPath,\n",
    "     engine='openpyxl',\n",
    "     parse_dates=True,\n",
    "     thousands='.'\n",
    ")\n",
    "\n",
    "#remove index column\n",
    "dfPollutant = dfPollutant.iloc[: , 1:] \n",
    "dfPollutant = dfPollutant.T\n",
    "print (dfPollutant)\n",
    "#dataset info\n",
    "num_nodes, time_len = dfPollutant.shape\n",
    "print(\"No. of sensors:\", num_nodes, \"\\nNo of timesteps:\", time_len)"
   ]
  },
  {
   "cell_type": "code",
   "execution_count": 4,
   "metadata": {
    "scrolled": true
   },
   "outputs": [
    {
     "name": "stdout",
     "output_type": "stream",
     "text": [
      "          0         1         2         3         4         5         6  \\\n",
      "0  1.000000  0.308322  0.533146  0.000000  0.069602  0.119625  0.173965   \n",
      "1  0.308322  1.000000  0.224824  0.308322  0.377924  0.427947  0.482287   \n",
      "2  0.533146  0.224824  1.000000  0.533146  0.602748  0.652771  0.707111   \n",
      "3  0.000000  0.308322  0.533146  1.000000  0.069602  0.119625  0.173965   \n",
      "4  0.069602  0.377924  0.602748  0.069602  1.000000  0.050024  0.104364   \n",
      "5  0.119625  0.427947  0.652771  0.119625  0.050024  1.000000  0.054340   \n",
      "6  0.173965  0.482287  0.707111  0.173965  0.104364  0.054340  1.000000   \n",
      "7  0.109162  0.417484  0.642307  0.109162  0.039560  0.010464  0.064804   \n",
      "8  0.181844  0.126477  0.351301  0.181844  0.251446  0.301470  0.355810   \n",
      "9  0.444393  0.752715  0.977539  0.444393  0.374791  0.324767  0.270428   \n",
      "\n",
      "          7         8         9  \n",
      "0  0.109162  0.181844  0.444393  \n",
      "1  0.417484  0.126477  0.752715  \n",
      "2  0.642307  0.351301  0.977539  \n",
      "3  0.109162  0.181844  0.444393  \n",
      "4  0.039560  0.251446  0.374791  \n",
      "5  0.010464  0.301470  0.324767  \n",
      "6  0.064804  0.355810  0.270428  \n",
      "7  1.000000  0.291006  0.335231  \n",
      "8  0.291006  1.000000  0.626237  \n",
      "9  0.335231  0.626237  1.000000  \n"
     ]
    }
   ],
   "source": [
    "# A N by N adjacency matrix, which describes the distance relationship between the N sensors,\n",
    "adj_path = \"datasets/training/population_adj.xlsx\"\n",
    "dfSensor = pd.read_excel(\n",
    "     adj_path,\n",
    "     engine='openpyxl',\n",
    "     parse_dates=True,\n",
    "     thousands='.',\n",
    "     header=None\n",
    ")\n",
    "\n",
    "print (dfSensor)"
   ]
  },
  {
   "cell_type": "code",
   "execution_count": 5,
   "metadata": {},
   "outputs": [],
   "source": [
    "# Train - Test split\n",
    "def train_test_split(data, train_portion):\n",
    "    time_len = data.shape[1]\n",
    "    train_size = int(time_len * train_portion)\n",
    "    train_data = np.array(data.iloc[:, :train_size])\n",
    "    test_data = np.array(data.iloc[:, train_size:])\n",
    "    return train_data, test_data\n",
    "\n",
    "# Scaling\n",
    "def scale_data(train_data, test_data):\n",
    "    max_speed = train_data.max()\n",
    "    min_speed = train_data.min()\n",
    "    train_scaled = (train_data - min_speed) / (max_speed - min_speed)\n",
    "    test_scaled = (test_data - min_speed) / (max_speed - min_speed)\n",
    "    return train_scaled, test_scaled"
   ]
  },
  {
   "cell_type": "code",
   "execution_count": 6,
   "metadata": {},
   "outputs": [
    {
     "name": "stdout",
     "output_type": "stream",
     "text": [
      "Train data:  (10, 16000)\n",
      "Test data:  (10, 4000)\n"
     ]
    }
   ],
   "source": [
    "train_rate = 0.8\n",
    "train_data, test_data = train_test_split(dfPollutant, train_rate)\n",
    "print(\"Train data: \", train_data.shape)\n",
    "print(\"Test data: \", test_data.shape)\n",
    "train_scaled, test_scaled = scale_data(train_data, test_data)"
   ]
  },
  {
   "cell_type": "code",
   "execution_count": 7,
   "metadata": {},
   "outputs": [
    {
     "data": {
      "text/plain": [
       "array([[0.0078029 , 0.00772841, 0.00817535, ..., 0.00256993, 0.00303549,\n",
       "        0.002961  ],\n",
       "       [0.00694625, 0.00776565, 0.00720697, ..., 0.00322172, 0.00217885,\n",
       "        0.001974  ],\n",
       "       [0.00173191, 0.00217885, 0.00232783, ..., 0.00113598, 0.00160155,\n",
       "        0.00113598],\n",
       "       ...,\n",
       "       [0.00862229, 0.00733733, 0.00912511, ..., 0.00141532, 0.00173191,\n",
       "        0.00135945],\n",
       "       [0.01359827, 0.01418861, 0.01442698, ..., 0.00445268, 0.00435398,\n",
       "        0.00368915],\n",
       "       [0.00631308, 0.00705799, 0.00839882, ..., 0.00206712, 0.00199263,\n",
       "        0.0018064 ]])"
      ]
     },
     "execution_count": 7,
     "metadata": {},
     "output_type": "execute_result"
    }
   ],
   "source": [
    "train_scaled"
   ]
  },
  {
   "cell_type": "code",
   "execution_count": 8,
   "metadata": {},
   "outputs": [],
   "source": [
    "# This value represents the past feature window size\n",
    "seq_len = 2\n",
    "# This value represents how far ahead we want to predict\n",
    "pre_len = 1\n",
    "# Data for LSTM is prepared using the Sliding Window approach\n",
    "# Sliding windows are applied for each sensor\n",
    "def sequence_data_preparation(seq_len, pre_len, train_data, test_data):\n",
    "    trainX, trainY, testX, testY = [], [], [], []\n",
    "\n",
    "    for i in range(train_data.shape[1] - int(seq_len + pre_len - 1)):\n",
    "        a = train_data[:, i : i + seq_len + pre_len]\n",
    "        trainX.append(a[:, :seq_len])\n",
    "        trainY.append(a[:, -1])\n",
    "\n",
    "    for i in range(test_data.shape[1] - int(seq_len + pre_len - 1)):\n",
    "        b = test_data[:, i : i + seq_len + pre_len]\n",
    "        testX.append(b[:, :seq_len])\n",
    "        testY.append(b[:, -1])\n",
    "\n",
    "    trainX = np.array(trainX)\n",
    "    trainY = np.array(trainY)\n",
    "    testX = np.array(testX)\n",
    "    testY = np.array(testY)\n",
    "\n",
    "    return trainX, trainY, testX, testY"
   ]
  },
  {
   "cell_type": "code",
   "execution_count": 9,
   "metadata": {},
   "outputs": [
    {
     "name": "stdout",
     "output_type": "stream",
     "text": [
      "(15998, 10, 2)\n",
      "(15998, 10)\n",
      "(3998, 10, 2)\n",
      "(3998, 10)\n"
     ]
    }
   ],
   "source": [
    "# We expect to see features of seq_len window size for each sensor \n",
    "# and labels as the pre_len ahead output\n",
    "trainX, trainY, testX, testY = sequence_data_preparation(\n",
    "    seq_len, pre_len, train_scaled, test_scaled\n",
    ")\n",
    "print(trainX.shape)\n",
    "print(trainY.shape)\n",
    "print(testX.shape)\n",
    "print(testY.shape)"
   ]
  },
  {
   "cell_type": "markdown",
   "metadata": {},
   "source": [
    "## Creating the GCN LSTM Model"
   ]
  },
  {
   "cell_type": "code",
   "execution_count": 10,
   "metadata": {},
   "outputs": [
    {
     "name": "stderr",
     "output_type": "stream",
     "text": [
      "c:\\users\\halit u\\appdata\\local\\programs\\python\\python37\\lib\\site-packages\\ipykernel_launcher.py:15: ExperimentalWarning: GCN_LSTM is experimental: Lack of unit tests and code refinement (see: https://github.com/stellargraph/stellargraph/issues/1132, https://github.com/stellargraph/stellargraph/issues/1526, https://github.com/stellargraph/stellargraph/issues/1564). It may be difficult to use and may have major changes at any time.\n",
      "  from ipykernel import kernelapp as app\n"
     ]
    }
   ],
   "source": [
    "## GCN and LSTM Model\n",
    "\n",
    "## GCN and LSTM Model\n",
    "gc_layer_sizes = [16, 10]\n",
    "gc_activations = [\"relu\", \"relu\"]\n",
    "lstm_layer_sizes = [200, 200]\n",
    "lstm_activations = [\"tanh\", \"tanh\"]\n",
    "\n",
    "gcn_lstm = GCN_LSTM(\n",
    "    seq_len=seq_len,\n",
    "    adj=dfSensor,\n",
    "    gc_layer_sizes=gc_layer_sizes,\n",
    "    gc_activations=gc_activations,\n",
    "    lstm_layer_sizes=lstm_layer_sizes,\n",
    "    lstm_activations=lstm_activations,\n",
    ")"
   ]
  },
  {
   "cell_type": "code",
   "execution_count": 11,
   "metadata": {},
   "outputs": [],
   "source": [
    "x_input, x_output = gcn_lstm.in_out_tensors()"
   ]
  },
  {
   "cell_type": "code",
   "execution_count": 12,
   "metadata": {},
   "outputs": [],
   "source": [
    "model = Model(inputs=x_input, outputs=x_output)"
   ]
  },
  {
   "cell_type": "code",
   "execution_count": 13,
   "metadata": {},
   "outputs": [],
   "source": [
    "optimizer = \"adam\"\n",
    "loss = \"mae\"\n",
    "metrics = [\"mse\"]\n",
    "\n",
    "model.compile(optimizer=optimizer, loss=loss, metrics=metrics)"
   ]
  },
  {
   "cell_type": "code",
   "execution_count": 14,
   "metadata": {},
   "outputs": [
    {
     "name": "stdout",
     "output_type": "stream",
     "text": [
      "Execution time: 898.8164851665497 seconds\n"
     ]
    }
   ],
   "source": [
    "start_time = time.time()\n",
    "\n",
    "n_epochs = 100\n",
    "batch_size = 60\n",
    "shuffle = True\n",
    "verbose = 0\n",
    "\n",
    "history = model.fit(\n",
    "    trainX,\n",
    "    trainY,\n",
    "    epochs=n_epochs,\n",
    "    batch_size=batch_size,\n",
    "    shuffle=shuffle,\n",
    "    verbose=verbose,\n",
    "    validation_data=(testX, testY),\n",
    ")\n",
    "\n",
    "print(\"Execution time: %s seconds\" % (time.time() - start_time))"
   ]
  },
  {
   "cell_type": "code",
   "execution_count": 15,
   "metadata": {},
   "outputs": [
    {
     "name": "stdout",
     "output_type": "stream",
     "text": [
      "Model: \"model\"\n",
      "_________________________________________________________________\n",
      "Layer (type)                 Output Shape              Param #   \n",
      "=================================================================\n",
      "input_1 (InputLayer)         [(None, 10, 2)]           0         \n",
      "_________________________________________________________________\n",
      "tf.expand_dims (TFOpLambda)  (None, 10, 2, 1)          0         \n",
      "_________________________________________________________________\n",
      "reshape (Reshape)            (None, 10, 2)             0         \n",
      "_________________________________________________________________\n",
      "fixed_adjacency_graph_convol (None, 10, 16)            142       \n",
      "_________________________________________________________________\n",
      "fixed_adjacency_graph_convol (None, 10, 10)            270       \n",
      "_________________________________________________________________\n",
      "reshape_1 (Reshape)          (None, 10, 10, 1)         0         \n",
      "_________________________________________________________________\n",
      "permute (Permute)            (None, 10, 10, 1)         0         \n",
      "_________________________________________________________________\n",
      "reshape_2 (Reshape)          (None, 10, 10)            0         \n",
      "_________________________________________________________________\n",
      "lstm (LSTM)                  (None, 10, 200)           168800    \n",
      "_________________________________________________________________\n",
      "lstm_1 (LSTM)                (None, 200)               320800    \n",
      "_________________________________________________________________\n",
      "dropout (Dropout)            (None, 200)               0         \n",
      "_________________________________________________________________\n",
      "dense (Dense)                (None, 10)                2010      \n",
      "=================================================================\n",
      "Total params: 492,022\n",
      "Trainable params: 491,822\n",
      "Non-trainable params: 200\n",
      "_________________________________________________________________\n"
     ]
    }
   ],
   "source": [
    "model.summary()"
   ]
  },
  {
   "cell_type": "code",
   "execution_count": 16,
   "metadata": {},
   "outputs": [
    {
     "name": "stdout",
     "output_type": "stream",
     "text": [
      "Train loss:  0.002014836063608527 \n",
      "Test loss: 0.0018189182737842202\n"
     ]
    }
   ],
   "source": [
    "print(\n",
    "    \"Train loss: \",\n",
    "    history.history[\"loss\"][-1],\n",
    "    \"\\nTest loss:\",\n",
    "    history.history[\"val_loss\"][-1],\n",
    ")"
   ]
  },
  {
   "cell_type": "code",
   "execution_count": 17,
   "metadata": {},
   "outputs": [
    {
     "data": {
      "image/png": "[encoded data removed]",
      "text/plain": [
       "<Figure size 504x576 with 2 Axes>"
      ]
     },
     "metadata": {
      "needs_background": "light"
     },
     "output_type": "display_data"
    }
   ],
   "source": [
    "sg.utils.plot_history(history)"
   ]
  },
  {
   "cell_type": "markdown",
   "metadata": {},
   "source": [
    "## Predictions"
   ]
  },
  {
   "cell_type": "code",
   "execution_count": 18,
   "metadata": {},
   "outputs": [],
   "source": [
    "# Actual prediction\n",
    "ythat = model.predict(trainX)\n",
    "yhat = model.predict(testX)"
   ]
  },
  {
   "cell_type": "code",
   "execution_count": 19,
   "metadata": {},
   "outputs": [],
   "source": [
    "# We need to rescale the predictions because we applied normalization in the first place\n",
    "## Rescale values\n",
    "max_speed = train_data.max()\n",
    "min_speed = train_data.min()\n",
    "\n",
    "## actual train and test values\n",
    "train_rescref = np.array(trainY * max_speed)\n",
    "test_rescref = np.array(testY * max_speed)"
   ]
  },
  {
   "cell_type": "code",
   "execution_count": 20,
   "metadata": {},
   "outputs": [],
   "source": [
    "## Rescale model predicted values\n",
    "train_rescpred = np.array((ythat) * max_speed)\n",
    "test_rescpred = np.array((yhat) * max_speed)"
   ]
  },
  {
   "cell_type": "markdown",
   "metadata": {},
   "source": [
    "## Evaluating Performance"
   ]
  },
  {
   "cell_type": "code",
   "execution_count": 21,
   "metadata": {},
   "outputs": [],
   "source": [
    "# Measuring Performance\n",
    "## Naive prediction benchmark (using previous observed value)\n",
    "\n",
    "testnpred = np.array(testX)[\n",
    "    :, :, -1\n",
    "]  # picking the last speed of the 10 sequence for each segment in each sample\n",
    "testnpredc = (testnpred) * max_speed"
   ]
  },
  {
   "cell_type": "code",
   "execution_count": 22,
   "metadata": {},
   "outputs": [
    {
     "name": "stdout",
     "output_type": "stream",
     "text": [
      "------------------------------------------\n",
      "\n",
      "MSE: 638.6509591196332\n",
      "RMSE: 25.27154445457644\n",
      "------------------------------------------\n"
     ]
    }
   ],
   "source": [
    "from sklearn.metrics import mean_squared_error\n",
    "from math import sqrt\n",
    "mse = mean_squared_error(test_rescref, test_rescpred) #y_true, y_pred\n",
    "rmse = sqrt(mean_squared_error(test_rescref, test_rescpred)) #y_true, y_pred\n",
    "rmse_test = rmse\n",
    "print('------------------------------------------\\n')\n",
    "print('MSE:',mse)\n",
    "print('RMSE:',rmse)\n",
    "print('------------------------------------------')"
   ]
  },
  {
   "cell_type": "code",
   "execution_count": 23,
   "metadata": {},
   "outputs": [
    {
     "name": "stdout",
     "output_type": "stream",
     "text": [
      "Train rmse: 0.004554692231264236\n",
      "Validation rmse: 0.004705972705725042\n"
     ]
    }
   ],
   "source": [
    "from sklearn.metrics import mean_squared_error\n",
    "print('Train rmse:', np.sqrt(mean_squared_error(trainY, ythat)))\n",
    "rmse = np.sqrt(mean_squared_error(testY, yhat))\n",
    "print('Validation rmse:', rmse)"
   ]
  },
  {
   "cell_type": "code",
   "execution_count": 24,
   "metadata": {},
   "outputs": [
    {
     "name": "stdout",
     "output_type": "stream",
     "text": [
      "Total (ave) MAE for NN: 8.842395922461836\n",
      "Total (ave) MAE for naive prediction: 6.134197129273357\n",
      "Total (ave) MASE for per-segment NN/naive MAE: 1.4434154970218502\n",
      "...note that MASE<1 (for a given segment) means that the NN prediction is better than the naive prediction.\n"
     ]
    }
   ],
   "source": [
    "## Performance measures\n",
    "\n",
    "seg_mael = []\n",
    "seg_masel = []\n",
    "seg_nmael = []\n",
    "\n",
    "for j in range(testX.shape[-1]):\n",
    "\n",
    "    seg_mael.append(\n",
    "        np.mean(np.abs(test_rescref.T[j] - test_rescpred.T[j]))\n",
    "    )  # Mean Absolute Error for NN\n",
    "    seg_nmael.append(\n",
    "        np.mean(np.abs(test_rescref.T[j] - testnpredc.T[j]))\n",
    "    )  # Mean Absolute Error for naive prediction\n",
    "    if seg_nmael[-1] != 0:\n",
    "        seg_masel.append(\n",
    "            seg_mael[-1] / seg_nmael[-1]\n",
    "        )  # Ratio of the two: Mean Absolute Scaled Error\n",
    "    else:\n",
    "        seg_masel.append(np.NaN)\n",
    "\n",
    "print(\"Total (ave) MAE for NN: \" + str(np.mean(np.array(seg_mael))))\n",
    "print(\"Total (ave) MAE for naive prediction: \" + str(np.mean(np.array(seg_nmael))))\n",
    "print(\n",
    "    \"Total (ave) MASE for per-segment NN/naive MAE: \"\n",
    "    + str(np.nanmean(np.array(seg_masel)))\n",
    ")\n",
    "print(\n",
    "    \"...note that MASE<1 (for a given segment) means that the NN prediction is better than the naive prediction.\"\n",
    ")"
   ]
  },
  {
   "cell_type": "code",
   "execution_count": 25,
   "metadata": {},
   "outputs": [
    {
     "data": {
      "image/png": "[encoded data removed]",
      "text/plain": [
       "<Figure size 432x288 with 1 Axes>"
      ]
     },
     "metadata": {
      "needs_background": "light"
     },
     "output_type": "display_data"
    }
   ],
   "source": [
    "# plot violin plot of MAE for naive and NN predictions\n",
    "fig, ax = plt.subplots()\n",
    "# xl = minsl\n",
    "\n",
    "ax.violinplot(\n",
    "    list(seg_mael), showmeans=True, showmedians=False, showextrema=False, widths=1.0\n",
    ")\n",
    "\n",
    "ax.violinplot(\n",
    "    list(seg_nmael), showmeans=True, showmedians=False, showextrema=False, widths=1.0\n",
    ")\n",
    "\n",
    "line1 = mlines.Line2D([], [], label=\"NN\")\n",
    "line2 = mlines.Line2D([], [], color=\"C1\", label=\"Instantaneous\")\n",
    "\n",
    "ax.set_xlabel(\"Scaled distribution amplitude (after Gaussian convolution)\")\n",
    "ax.set_ylabel(\"Mean Absolute Error\")\n",
    "ax.set_title(\"Distribution over segments: NN pred (blue) and naive pred (orange)\")\n",
    "plt.legend(handles=(line1, line2), title=\"Prediction Model\", loc=2)\n",
    "plt.show()"
   ]
  },
  {
   "cell_type": "code",
   "execution_count": 26,
   "metadata": {},
   "outputs": [
    {
     "data": {
      "image/png": "[encoded data removed]",
      "text/plain": [
       "<Figure size 1080x576 with 1 Axes>"
      ]
     },
     "metadata": {
      "needs_background": "light"
     },
     "output_type": "display_data"
    }
   ],
   "source": [
    "##all test result visualization\n",
    "fig1 = plt.figure(figsize=(15, 8))\n",
    "#    ax1 = fig1.add_subplot(1,1,1)\n",
    "a_pred = test_rescpred[:, 9]\n",
    "a_true = test_rescref[:, 9]\n",
    "plt.plot(a_pred, \"r-\", label=\"prediction\")\n",
    "plt.plot(a_true, \"b-\", label=\"true\")\n",
    "plt.xlabel(\"time\")\n",
    "plt.ylabel(\"pollution\")\n",
    "plt.legend(loc=\"best\", fontsize=10)\n",
    "plt.show()"
   ]
  },
  {
   "cell_type": "code",
   "execution_count": 27,
   "metadata": {},
   "outputs": [],
   "source": [
    "# Output all results to a sub-directory\n",
    "import datetime\n",
    "import pathlib\n",
    "import os\n",
    "path = pathlib.Path().absolute()\n",
    "time = datetime.datetime.now().strftime(\"%m-%d-%Y %H-%M-%S\")\n",
    "result_dir = os.path.join (path, \"experiments\", time)\n",
    "os.mkdir (result_dir)\n",
    "\n",
    "# Create the result txt file\n",
    "f = open(result_dir + \"/\" + \"summary.txt\", \"w\")\n",
    "\n",
    "# Write experiment parameters\n",
    "f.write (\"---------Experiment Parameters--------\")\n",
    "f.write (\"\\nPast feature window: \" + str(seq_len))\n",
    "f.write (\"\\nFuture feature window: \" + str(pre_len))\n",
    "f.write (\"\\nTrain-Test split rate: \" + str(train_rate))\n",
    "f.write (\"\\nNumber of epochs: \" + str(n_epochs))\n",
    "f.write (\"\\nBatch size: \" + str(batch_size))\n",
    "f.write (\"\\nShuffle during training: \" + str(shuffle))\n",
    "f.write (\"\\nVerbose: \" + str(verbose))\n",
    "f.write (\"\\nAdj matrix path: \" + adj_path)\n",
    "f.write (\"\\nPollutant path: \" + pollutantPath)\n",
    "f.write (\"\\n---------------------------\")\n",
    "\n",
    "# Write dataset details\n",
    "f.write (\"\\n---------Dataset Details--------\")\n",
    "num_nodes, time_len = dfPollutant.shape\n",
    "f.write (\"\\nNo. of sensors:\" + str(num_nodes) + \"\\nNo of timesteps:\" + str(time_len))\n",
    "f.write (\"\\nTrain data: \" + str(train_data.shape))\n",
    "f.write (\"\\nTest data: \" + str(test_data.shape))\n",
    "\n",
    "f.write (\"\\nTrain data X: \" + str(trainX.shape))\n",
    "f.write (\"\\nTrain data Y: \" + str(trainY.shape))\n",
    "f.write (\"\\nTest data X: \" + str(testX.shape))\n",
    "f.write (\"\\nTest data Y: \" + str(testY.shape))\n",
    "f.write (\"\\n---------------------------\")\n",
    "\n",
    "# Write model details\n",
    "f.write (\"\\n---------Model Details--------\")\n",
    "f.write (\"\\nGCN layer sizes: \" + str(gc_layer_sizes))\n",
    "f.write (\"\\nGCN activation functions: \" + str(gc_activations))\n",
    "f.write (\"\\nLSTM layer sizes: \" + str(lstm_layer_sizes))\n",
    "f.write (\"\\nLSTM activation functions: \" + str(lstm_activations))\n",
    "f.write (\"\\nOptimizer: \" + optimizer)\n",
    "f.write (\"\\nLoss function: \" + loss)\n",
    "f.write (\"\\nResult Metrics: \" + str(metrics))\n",
    "f.write (\"\\n---------------------------\")\n",
    "\n",
    "# Write results\n",
    "f.write (\"\\nLast Train loss: \" + str(history.history[\"loss\"][-1]) + \", Last Test loss:\" + str(history.history[\"val_loss\"][-1]))\n",
    "f.write (\"\\nTotal (ave) MAE for NN: \" + str(np.mean(np.array(seg_mael))))\n",
    "f.write (\"\\nTotal (ave) MAE for naive prediction: \" + str(np.mean(np.array(seg_nmael))))\n",
    "f.write (\"Total (ave) MASE for per-segment NN/naive MAE: \" + str(np.nanmean(np.array(seg_masel))))\n",
    "f.write (\"...note that MASE<1 (for a given segment) means that the\" + \"NN prediction is better than the naive prediction.\")\n",
    "f.write ('\\nTest RMSE: %.3f' % rmse_test)\n",
    "f.write ('\\nMSE: %.3f' % mse)\n",
    "# Write visual outputs\n",
    "fig.savefig (result_dir + \"/\" + \"MAE-vs-Naive.png\")\n",
    "fig1.savefig (result_dir + \"/\" + \"prediction-accuracy.png\")\n",
    "\n",
    "f.close ()"
   ]
  },
  {
   "cell_type": "code",
   "execution_count": null,
   "metadata": {},
   "outputs": [],
   "source": []
  }
 ],
 "metadata": {
  "kernelspec": {
   "display_name": "Python 3",
   "language": "python",
   "name": "python3"
  },
  "language_info": {
   "codemirror_mode": {
    "name": "ipython",
    "version": 3
   },
   "file_extension": ".py",
   "mimetype": "text/x-python",
   "name": "python",
   "nbconvert_exporter": "python",
   "pygments_lexer": "ipython3",
   "version": "3.7.0"
  },
  "metadata": {
   "interpreter": {
    "hash": "aee8b7b246df8f9039afb4144a1f6fd8d2ca17a180786b69acc140d282b71a49"
   }
  }
 },
 "nbformat": 4,
 "nbformat_minor": 4
}
