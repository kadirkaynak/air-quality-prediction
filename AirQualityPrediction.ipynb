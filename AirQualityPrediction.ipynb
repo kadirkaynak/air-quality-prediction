{
  "nbformat": 4,
  "nbformat_minor": 0,
  "metadata": {
    "colab": {
      "name": "AirQualityPrediction.ipynb",
      "provenance": [],
      "authorship_tag": "ABX9TyPeYia+8m4vDmCnZ3ARtlfQ",
      "include_colab_link": true
    },
    "kernelspec": {
      "name": "python3",
      "display_name": "Python 3"
    },
    "language_info": {
      "name": "python"
    }
  },
  "cells": [
    {
      "cell_type": "markdown",
      "metadata": {
        "id": "view-in-github",
        "colab_type": "text"
      },
      "source": [
        "<a href=\"https://colab.research.google.com/github/kadirsinas/air-quality-prediction/blob/main/AirQualityPrediction.ipynb\" target=\"_parent\"><img src=\"https://colab.research.google.com/assets/colab-badge.svg\" alt=\"Open In Colab\"/></a>"
      ]
    },
    {
      "cell_type": "markdown",
      "metadata": {
        "id": "3ADhhujQABYT"
      },
      "source": [
        "# BLG556E - Digital Solution for Smart Cities\n",
        "\n",
        "Halit Uyanık - 504202506<br>\n",
        "Kadir Şinas Kaynak - 504191525\n"
      ]
    },
    {
      "cell_type": "code",
      "metadata": {
        "id": "pwyPGrRx_1rZ"
      },
      "source": [
        "#initial"
      ],
      "execution_count": null,
      "outputs": []
    },
    {
      "cell_type": "code",
      "metadata": {
        "id": "0d7rfI_XAh3I"
      },
      "source": [
        ""
      ],
      "execution_count": null,
      "outputs": []
    },
    {
      "cell_type": "code",
      "metadata": {
        "id": "HZceV--sAiGV"
      },
      "source": [
        ""
      ],
      "execution_count": null,
      "outputs": []
    }
  ]
}